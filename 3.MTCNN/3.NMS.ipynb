{
 "cells": [
  {
   "cell_type": "code",
   "execution_count": null,
   "source": [
    "def nms(objs, iou_threshold):\n",
    "    # 1.sorting\n",
    "    objs = sorted(objs, key = lambda x:x.score, reverse = True)\n",
    "    removed_flags = [False] * len(objs) # 因为for loop是基于obj的长度的，所以不太建议直接删掉框\n",
    "    keep = []\n",
    "\n",
    "    # 2. for loop all bboxes\n",
    "    for i in range(len(objs)):\n",
    "        if removed_flags[i]: # 一上来就判断\n",
    "            continue\n",
    "\n",
    "        base_box = objs[i]\n",
    "        keep.append(base_box)\n",
    "\n",
    "        # for loop the bboxes after the base_box(aka current box)\n",
    "        for j in range(i+1, len(objs)):\n",
    "            if removed_flags[j]:\n",
    "                continue\n",
    "\n",
    "            other_box = objs[j]\n",
    "            iou = base_box ^ other_box\n",
    "\n",
    "            if iou > iou_threshold:\n",
    "                removed_flags[j] = True\n",
    "    \n",
    "    return keep\n",
    "\n",
    "\n",
    "    \n"
   ],
   "outputs": [],
   "metadata": {}
  },
  {
   "cell_type": "code",
   "execution_count": 4,
   "source": [
    "# lambda function \n",
    "# https://towardsdatascience.com/lambda-functions-with-practical-examples-in-python-45934f3653a8\n",
    "# syntax: lambda argument(s): expression\n",
    "[False] * 3\n"
   ],
   "outputs": [
    {
     "output_type": "execute_result",
     "data": {
      "text/plain": [
       "[False, False, False]"
      ]
     },
     "metadata": {},
     "execution_count": 4
    }
   ],
   "metadata": {}
  }
 ],
 "metadata": {
  "orig_nbformat": 4,
  "language_info": {
   "name": "python",
   "version": "3.8.8",
   "mimetype": "text/x-python",
   "codemirror_mode": {
    "name": "ipython",
    "version": 3
   },
   "pygments_lexer": "ipython3",
   "nbconvert_exporter": "python",
   "file_extension": ".py"
  },
  "kernelspec": {
   "name": "python3",
   "display_name": "Python 3.8.8 64-bit ('base': conda)"
  },
  "interpreter": {
   "hash": "7383003b210fdacca9bf7683d9d1d561f4a72c77adad40daede406a89507eb7d"
  }
 },
 "nbformat": 4,
 "nbformat_minor": 2
}