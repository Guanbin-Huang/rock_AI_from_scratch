{
 "cells": [
  {
   "cell_type": "code",
   "execution_count": 12,
   "source": [
    "import numpy as np\n",
    "import struct\n",
    "import random\n",
    "import matplotlib.pyplot as plt\n",
    "import pandas as pd\n",
    "import math\n",
    "import cv2\n",
    "import mtcnn.caffe_pb2 as pb\n",
    "import math"
   ],
   "outputs": [],
   "metadata": {}
  },
  {
   "cell_type": "code",
   "execution_count": 28,
   "source": [
    "def pyrdown(img,min_face=12,max_face=0,factor=0.709):\n",
    "    img_h, img_w = img.shape[:2]\n",
    "    minl = min(img_w, img_h) # 原始图的短边\n",
    "    scale = 1.0\n",
    "    scales_select = []\n",
    "\n",
    "    lower_limit_scale = 12 / max_face if max_face != 0 else 0.01 # 图像大小的下限，其对应的scale是多少 # 注意 12是变换之后，maxface或者minface是变换之前\n",
    "    upper_limit_scale = 12 / min_face # 图像大小的上限，其对应的scale 是多少\n",
    "    \n",
    "    minl *= upper_limit_scale # minl 就从upper limit scale 这个尺度开始了，避免了在过小脸尺度上的搜索\n",
    "    while minl >= 12.0:\n",
    "        scales_select.append(scale * upper_limit_scale)\n",
    "        scale *= factor\n",
    "        minl *= factor\n",
    "    \n",
    "    if len(scales_select) == 0:\n",
    "        return []\n",
    "\n",
    "    pyrs = []\n",
    "    for scale in scales_select:\n",
    "        pyrs.append([cv2.resize(image, (0, 0), fx=scale, fy=scale), scale])\n",
    "        \n",
    "    for p in pyrs:\n",
    "        print(p[0].shape)\n",
    "    return pyrs"
   ],
   "outputs": [],
   "metadata": {}
  },
  {
   "cell_type": "code",
   "execution_count": 29,
   "source": [
    "image = cv2.imread(\"./imgs/my.jpg\")\n",
    "out1 = pyrdown(image)"
   ],
   "outputs": [
    {
     "output_type": "stream",
     "name": "stdout",
     "text": [
      "(358, 310, 3)\n",
      "(254, 220, 3)\n",
      "(180, 156, 3)\n",
      "(128, 110, 3)\n",
      "(90, 78, 3)\n",
      "(64, 56, 3)\n",
      "(45, 39, 3)\n",
      "(32, 28, 3)\n",
      "(23, 20, 3)\n",
      "(16, 14, 3)\n"
     ]
    }
   ],
   "metadata": {}
  }
 ],
 "metadata": {
  "orig_nbformat": 4,
  "language_info": {
   "name": "python",
   "version": "3.8.8",
   "mimetype": "text/x-python",
   "codemirror_mode": {
    "name": "ipython",
    "version": 3
   },
   "pygments_lexer": "ipython3",
   "nbconvert_exporter": "python",
   "file_extension": ".py"
  },
  "kernelspec": {
   "name": "python3",
   "display_name": "Python 3.8.8 64-bit ('base': conda)"
  },
  "interpreter": {
   "hash": "7383003b210fdacca9bf7683d9d1d561f4a72c77adad40daede406a89507eb7d"
  }
 },
 "nbformat": 4,
 "nbformat_minor": 2
}