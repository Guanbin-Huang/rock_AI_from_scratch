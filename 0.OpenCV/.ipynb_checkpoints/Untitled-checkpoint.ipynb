{
 "cells": [
  {
   "cell_type": "code",
   "execution_count": null,
   "id": "84e84aa6-55b0-486c-a9fb-24cc4b275861",
   "metadata": {},
   "outputs": [],
   "source": [
    "alpha = zy_img[...,3:] / 255\n",
    "bgr = zy_img[..., :3]\n",
    "h, w = zy_img.shape[:2]\n",
    "\n",
    "ox, oy = 150, 20\n",
    "\n",
    "scene[oy:oy +h, ox: ox : ox + w] = (scene[oy: oy + h, ox : ox + w] * (1 - alpha) + bgr * alpha).astype(np.uint8)"
   ]
  }
 ],
 "metadata": {
  "kernelspec": {
   "display_name": "Python 3",
   "language": "python",
   "name": "python3"
  },
  "language_info": {
   "codemirror_mode": {
    "name": "ipython",
    "version": 3
   },
   "file_extension": ".py",
   "mimetype": "text/x-python",
   "name": "python",
   "nbconvert_exporter": "python",
   "pygments_lexer": "ipython3",
   "version": "3.8.8"
  }
 },
 "nbformat": 4,
 "nbformat_minor": 5
}
