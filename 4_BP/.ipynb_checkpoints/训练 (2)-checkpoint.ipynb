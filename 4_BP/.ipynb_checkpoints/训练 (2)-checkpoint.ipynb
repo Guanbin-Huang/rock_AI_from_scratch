{
 "cells": [
  {
   "cell_type": "code",
   "execution_count": 1,
   "metadata": {},
   "outputs": [],
   "source": [
    "import pickle\n",
    "import torch\n",
    "import numpy as np\n",
    "import torch.nn as nn\n",
    "import torch.nn.functional as F"
   ]
  },
  {
   "cell_type": "code",
   "execution_count": 2,
   "metadata": {},
   "outputs": [
    {
     "data": {
      "text/plain": [
       "[122, 76, 5.29, 5.13, 1.29, 1.59, 2.84, 23.4]"
      ]
     },
     "execution_count": 2,
     "metadata": {},
     "output_type": "execute_result"
    }
   ],
   "source": [
    "data = pickle.load(open(\"db.pkl\", \"rb\"))\n",
    "db = data[\"db\"]\n",
    "caption = data[\"caption\"]\n",
    "db[0][5:]\n",
    "# caption"
   ]
  },
  {
   "cell_type": "code",
   "execution_count": 3,
   "metadata": {},
   "outputs": [
    {
     "data": {
      "text/plain": [
       "(array([122.82474227,  75.67010309,   5.4557732 ,   5.16216495,\n",
       "          1.52989691,   1.52391753,   2.84938144,  24.54845361]),\n",
       " array([8.12658906, 4.83697454, 0.43164474, 0.24159789, 0.41729738,\n",
       "        0.12139699, 0.1498096 , 2.61825918]),\n",
       " (136,),\n",
       " (136,))"
      ]
     },
     "execution_count": 3,
     "metadata": {},
     "output_type": "execute_result"
    }
   ],
   "source": [
    "train = db[:80]\n",
    "test  = db[80:]\n",
    "len(train), len(test)\n",
    "\n",
    "xx = np.array([item[4].reshape(136) for item in db])\n",
    "set_xmean = xx.mean(axis=0)\n",
    "set_xstd  = xx.std(axis=0)\n",
    "\n",
    "yy = np.array([item[5:] for item in db])\n",
    "set_ymean = yy.mean(axis=0)\n",
    "set_ystd  = yy.std(axis=0)\n",
    "set_ymean, set_ystd, set_xmean.shape, set_xstd.shape"
   ]
  },
  {
   "cell_type": "code",
   "execution_count": null,
   "metadata": {},
   "outputs": [],
   "source": []
  },
  {
   "cell_type": "code",
   "execution_count": 4,
   "metadata": {},
   "outputs": [],
   "source": [
    "class Dataset:\n",
    "    def __init__(self, raw_data):\n",
    "        self.raw_data = raw_data\n",
    "    \n",
    "    def __getitem__(self, index):\n",
    "        \n",
    "        item = self.raw_data[index]\n",
    "        x = item[4].reshape(136)\n",
    "        y = np.array(item[5:])\n",
    "        x = x + np.random.rand(*x.shape) * 6 - 3\n",
    "        \n",
    "        x = (x - set_xmean) / set_xstd\n",
    "        y = (y - set_ymean) / set_ystd\n",
    "        return x.astype(np.float32), y.astype(np.float32)\n",
    "    \n",
    "    def __len__(self):\n",
    "         return len(self.raw_data)"
   ]
  },
  {
   "cell_type": "code",
   "execution_count": 5,
   "metadata": {},
   "outputs": [],
   "source": [
    "train_dataset = Dataset(train)\n",
    "test_dataset  = Dataset(test)"
   ]
  },
  {
   "cell_type": "code",
   "execution_count": 6,
   "metadata": {},
   "outputs": [],
   "source": [
    "class Model(nn.Module):\n",
    "    def __init__(self, infeature, outfeature, nhidden=4096):\n",
    "        super().__init__()\n",
    "        self.fc1 = nn.Linear(infeature, nhidden)\n",
    "        self.fc2 = nn.Linear(nhidden, nhidden)\n",
    "        self.fc3 = nn.Linear(nhidden, outfeature)\n",
    "        \n",
    "    def forward(self, x):\n",
    "        \n",
    "        x = F.relu(self.fc1(x))\n",
    "        x = F.relu(self.fc2(x))\n",
    "        x = self.fc3(x)\n",
    "        return x"
   ]
  },
  {
   "cell_type": "code",
   "execution_count": 7,
   "metadata": {},
   "outputs": [],
   "source": [
    "device = \"cuda:3\"\n",
    "model = Model(136, 8).to(device)\n",
    "lr = 1e-2\n",
    "opt = torch.optim.Adam(model.parameters(), lr)\n",
    "train_loader = torch.utils.data.DataLoader(train_dataset, batch_size=16, shuffle=True, pin_memory=True, num_workers=0)\n",
    "lossfn = nn.MSELoss()"
   ]
  },
  {
   "cell_type": "code",
   "execution_count": 8,
   "metadata": {},
   "outputs": [
    {
     "ename": "NameError",
     "evalue": "name 'lr_schedule' is not defined",
     "output_type": "error",
     "traceback": [
      "\u001b[0;31m---------------------------------------------------------------------------\u001b[0m",
      "\u001b[0;31mNameError\u001b[0m                                 Traceback (most recent call last)",
      "\u001b[0;32m<ipython-input-8-d308d9f95543>\u001b[0m in \u001b[0;36m<module>\u001b[0;34m\u001b[0m\n\u001b[1;32m     19\u001b[0m         \u001b[0mopt\u001b[0m\u001b[0;34m.\u001b[0m\u001b[0mstep\u001b[0m\u001b[0;34m(\u001b[0m\u001b[0;34m)\u001b[0m\u001b[0;34m\u001b[0m\u001b[0;34m\u001b[0m\u001b[0m\n\u001b[1;32m     20\u001b[0m \u001b[0;34m\u001b[0m\u001b[0m\n\u001b[0;32m---> 21\u001b[0;31m     \u001b[0;32mif\u001b[0m \u001b[0mepoch\u001b[0m \u001b[0;32min\u001b[0m \u001b[0mlr_schedule\u001b[0m\u001b[0;34m:\u001b[0m\u001b[0;34m\u001b[0m\u001b[0;34m\u001b[0m\u001b[0m\n\u001b[0m\u001b[1;32m     22\u001b[0m         \u001b[0mlr\u001b[0m \u001b[0;34m=\u001b[0m \u001b[0mlr_schedule\u001b[0m\u001b[0;34m[\u001b[0m\u001b[0mepoch\u001b[0m\u001b[0;34m]\u001b[0m\u001b[0;34m\u001b[0m\u001b[0;34m\u001b[0m\u001b[0m\n\u001b[1;32m     23\u001b[0m         \u001b[0;32mfor\u001b[0m \u001b[0mpg\u001b[0m \u001b[0;32min\u001b[0m \u001b[0mopt\u001b[0m\u001b[0;34m.\u001b[0m\u001b[0mparam_groups\u001b[0m\u001b[0;34m:\u001b[0m\u001b[0;34m\u001b[0m\u001b[0;34m\u001b[0m\u001b[0m\n",
      "\u001b[0;31mNameError\u001b[0m: name 'lr_schedule' is not defined"
     ]
    }
   ],
   "source": [
    "epochs = 3000\n",
    "lr_schedule = {\n",
    "    800 : 1e-2,\n",
    "    900 : 1e-3,\n",
    "    1100 : 1e-4\n",
    "}\n",
    "\n",
    "for epoch in range(epochs):\n",
    "    for x, y in train_loader:\n",
    "        \n",
    "        x = x.to(device)\n",
    "        y = y.to(device)\n",
    "        pred = model(x)\n",
    "\n",
    "        loss = lossfn(pred, y)\n",
    "\n",
    "        opt.zero_grad()\n",
    "        loss.backward()\n",
    "        opt.step()\n",
    "        \n",
    "    if epoch in lr_schedule:\n",
    "        lr = lr_schedule[epoch]\n",
    "        for pg in opt.param_groups:\n",
    "            pg[\"lr\"] = lr\n",
    "    \n",
    "    if epoch % 100 == 0:\n",
    "        print(loss.item(), lr)"
   ]
  },
  {
   "cell_type": "code",
   "execution_count": null,
   "metadata": {},
   "outputs": [],
   "source": [
    "# test_loader = torch.utils.data.DataLoader(test_dataset, batch_size=17, pin_memory=True, num_workers=0)\n",
    "\n",
    "# with torch.no_grad():\n",
    "#     for x, y in train_loader:\n",
    "#         x = x.to(device)\n",
    "#         y = y.to(device).view(-1, 1)\n",
    "\n",
    "#         pred = model(x)\n",
    "        \n",
    "#         #print((pred - y).abs())\n",
    "#         print(\"===\", pred.cpu().data.numpy() * set_ystd + set_ymean, y.cpu().data.numpy() * set_ystd + set_ymean)"
   ]
  },
  {
   "cell_type": "code",
   "execution_count": null,
   "metadata": {},
   "outputs": [],
   "source": [
    "set_ymean, set_ystd"
   ]
  },
  {
   "cell_type": "code",
   "execution_count": null,
   "metadata": {},
   "outputs": [],
   "source": []
  }
 ],
 "metadata": {
  "kernelspec": {
   "display_name": "Python 3",
   "language": "python",
   "name": "python3"
  },
  "language_info": {
   "codemirror_mode": {
    "name": "ipython",
    "version": 3
   },
   "file_extension": ".py",
   "mimetype": "text/x-python",
   "name": "python",
   "nbconvert_exporter": "python",
   "pygments_lexer": "ipython3",
   "version": "3.8.8"
  }
 },
 "nbformat": 4,
 "nbformat_minor": 4
}
