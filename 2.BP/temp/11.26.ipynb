{
 "cells": [
  {
   "cell_type": "markdown",
   "source": [
    "### NumPy的使用\n",
    "* [学习地址](https://www.runoob.com/numpy/numpy-tutorial.html)\n",
    "* [NumPy Documentation](https://numpy.org/doc/stable/contents.html)\n",
    "* 安装使用 pip install numpy\n",
    "* numpy的广播概念，[Broadcast](https://blog.csdn.net/kevindree/article/details/88379111)"
   ],
   "metadata": {}
  },
  {
   "cell_type": "markdown",
   "source": [
    "### NumPy的基本概念\n",
    "1. 他是一个强大的N维数组，ndarray\n",
    "2. 他可以表示矩阵matrix和实现矩阵的各类操作\n",
    "3. 他可以通过切片轻松访问数组元素\n",
    "4. 可以实现线性代数、fft等常用功能\n",
    "5. 是一个高效率的数学库，底层是高效的C++/Fortran代码提供支持\n",
    "6. 他的内存存储是默认行优先的（row-major order），即，[1, 2, 3, 4]，通过np.array([1,2,3,4]).reshape(2, 2)后，结果矩阵是：$$ \\begin{bmatrix} 1 & 2 \\\\ 3 & 4 \\end{bmatrix} $$\n",
    "7. 常用的基本类型是numpy.ndarray，也就是np.array([])产生的数据类型\n",
    "8. var.dtype获取其内部的数值类型，对应的类型有np.int, np.int32, np.float32, np.uint8, np.int8, np.float64等等，[见这里](https://numpy.org/doc/stable/reference/arrays.scalars.html#arrays-scalars-built-in) 和[这里](https://www.runoob.com/numpy/numpy-dtype.html)\n",
    "    - 当看到dtype作为参数输入的时候，可以输入np.int，也可以输入int，还可以输入\"int\"，等价的\n",
    "9. numpy对小数值，默认是使用float64操作的，谨记，以后存在数值转换问题\n",
    "10. numpy的各种小数值乘除法也都是基于float64\n",
    "11. var.shape可以获取到其维度信息，返回值是tuple\n",
    "12. 维度信息如果只有行列时，通常格式是：行，列。这是因为其行排列的原因，上面提到过的\n",
    "13. var.T实现矩阵的转置，仅限于2未时的操作。否则请使用transpose\n",
    "14. 切片\n",
    "    - var[..., ::-1]，...是忽略当前位置到第一个维度的所有维度，等价于在这之前的维度都填充了 None:None:None，也就是 var[:, :, ::-1]\n",
    "    - numpy的切片操作，还支持和list选择元素一样的选择方式[begin:end:step]，基本吻合python语法，仅仅是多了...的支持\n",
    "    - view返回数组的视图，修改视图维度不影响之前的数组，但是修改数据影响之前的\n",
    "    - 使用v = var[...]方式获取的切片视图v，修改v内的值会改变var的结果\n",
    "    - 使用v = var.copy()，建立var的副本，v和var互补影响\n",
    "15. 数组（矩阵）的创建\n",
    "    - np.empty(shape, dtype = float, order = 'C')，创建空矩阵，也就是内存没有被初始化的。order为优先方式可以是F，列优先。shape输入一个tuple，指定维度大小\n",
    "    - np.zeros(shape, dtype = float, order = 'C')，创建0矩阵，所有值都为0\n",
    "    - np.ones(shape, dtype = None, order = 'C')，创建1矩阵，全部填充为1\n",
    "    - np.asarray(a, dtype = None, order = None)，把输入转换为array\n",
    "    - np.array(object, dtype=None, *, copy=True, order='K', subok=False, ndmin=0)，创建一个array从object上复制\n",
    "    - np.frombuffer(buffer, dtype = float, count = -1, offset = 0)，把buffer理解为一个1-d的array\n",
    "    - np.fromiter(iterable, dtype, count=-1)，从可迭代对象上创建一个1-d的array\n",
    "    - np.arange(start, stop, step, dtype)，创建一个从start到stop具有step步长的dtype类型数组\n",
    "    - np.linspace(start, stop, num=50, endpoint=True, retstep=False, dtype=None)，创建等差数组\n",
    "16. copy复制数组，复制后，修改数组不影响之前的对象\n",
    "17. 改变维度\n",
    "    - reshape，改变数组的维度信息，但是不改变数值和内存的内容\n",
    "    - transpose，改变数组的维度信息，同时也改变数值位置，数值会发生变化\n",
    "    - .T，转置，同transpose\n",
    "18. numpy可以是复合类型，不止是数值，看[这里](https://www.runoob.com/numpy/numpy-sort-search.html)，可以实现行列选择，排序等\n",
    "19. numpy的ndarray是iterable，可以执行迭代，类似list的使用"
   ],
   "metadata": {}
  },
  {
   "cell_type": "code",
   "execution_count": 649,
   "source": [
    "#!pip install pandas\n",
    "#!pip install sklearn"
   ],
   "outputs": [],
   "metadata": {}
  },
  {
   "cell_type": "markdown",
   "source": [
    "### mnist数据集下载\n",
    "[mnist](http://yann.lecun.com/exdb/mnist/)"
   ],
   "metadata": {}
  },
  {
   "cell_type": "code",
   "execution_count": 650,
   "source": [
    "!mkdir dataset\n",
    "!wget http://yann.lecun.com/exdb/mnist/train-images-idx3-ubyte.gz --output-document=dataset/train-images-idx3-ubyte.gz\n",
    "!gzip -d dataset/train-images-idx3-ubyte.gz \n",
    "\n",
    "!wget http://yann.lecun.com/exdb/mnist/train-labels-idx1-ubyte.gz --output-document=dataset/train-labels-idx1-ubyte.gz\n",
    "!gzip -d dataset/train-labels-idx1-ubyte.gz \n",
    "\n",
    "!wget http://yann.lecun.com/exdb/mnist/t10k-images-idx3-ubyte.gz --output-document=dataset/t10k-images-idx3-ubyte.gz\n",
    "!gzip -d dataset/t10k-images-idx3-ubyte.gz\n",
    "\n",
    "!wget http://yann.lecun.com/exdb/mnist/t10k-labels-idx1-ubyte.gz --output-document=dataset/t10k-labels-idx1-ubyte.gz\n",
    "!gzip -d dataset/t10k-labels-idx1-ubyte.gz"
   ],
   "outputs": [
    {
     "output_type": "stream",
     "name": "stdout",
     "text": [
      "mkdir: dataset: File exists\n",
      "--2020-11-26 22:09:34--  http://yann.lecun.com/exdb/mnist/train-images-idx3-ubyte.gz\n",
      "正在解析主机 yann.lecun.com (yann.lecun.com)... 172.67.171.76, 104.28.7.204, 104.28.6.204\n",
      "正在连接 yann.lecun.com (yann.lecun.com)|172.67.171.76|:80... 已连接。\n",
      "已发出 HTTP 请求，正在等待回应... 200 OK\n",
      "长度：9912422 (9.5M) [application/x-gzip]\n",
      "正在保存至: “dataset/train-images-idx3-ubyte.gz”\n",
      "\n",
      "aset/train-images-i  10%[=>                  ]   1011K   208KB/s  剩余 47s       ^C\n",
      "dataset/train-images-idx3-ubyte already exists -- do you wish to overwrite (y or n)? ^C\n",
      "--2020-11-26 22:10:21--  http://yann.lecun.com/exdb/mnist/train-labels-idx1-ubyte.gz\n",
      "正在解析主机 yann.lecun.com (yann.lecun.com)... 172.67.171.76, 104.28.7.204, 104.28.6.204\n",
      "正在连接 yann.lecun.com (yann.lecun.com)|172.67.171.76|:80... 已连接。\n",
      "已发出 HTTP 请求，正在等待回应... 200 OK\n",
      "长度：28881 (28K) [application/x-gzip]\n",
      "正在保存至: “dataset/train-labels-idx1-ubyte.gz”\n",
      "\n",
      "dataset/train-label 100%[===================>]  28.20K   112KB/s  用时 0.3s      \n",
      "\n",
      "2020-11-26 22:10:21 (112 KB/s) - 已保存 “dataset/train-labels-idx1-ubyte.gz” [28881/28881])\n",
      "\n",
      "dataset/train-labels-idx1-ubyte already exists -- do you wish to overwrite (y or n)? ^C\n",
      "--2020-11-26 22:10:27--  http://yann.lecun.com/exdb/mnist/t10k-images-idx3-ubyte.gz\n",
      "正在解析主机 yann.lecun.com (yann.lecun.com)... 104.28.7.204, 104.28.6.204, 172.67.171.76\n",
      "正在连接 yann.lecun.com (yann.lecun.com)|104.28.7.204|:80... 已连接。\n",
      "已发出 HTTP 请求，正在等待回应... ^C\n",
      "gzip: dataset/t10k-images-idx3-ubyte.gz: unexpected end of file\n",
      "--2020-11-26 22:10:28--  http://yann.lecun.com/exdb/mnist/t10k-labels-idx1-ubyte.gz\n",
      "正在解析主机 yann.lecun.com (yann.lecun.com)... 104.28.6.204, 104.28.7.204, 172.67.171.76\n",
      "正在连接 yann.lecun.com (yann.lecun.com)|104.28.6.204|:80... ^C\n",
      "^C\n"
     ]
    }
   ],
   "metadata": {}
  },
  {
   "cell_type": "code",
   "execution_count": 618,
   "source": [
    "import numpy as np\n",
    "import struct\n",
    "import random\n",
    "import matplotlib.pyplot as plt\n",
    "import pandas as pd\n",
    "import math"
   ],
   "outputs": [],
   "metadata": {}
  },
  {
   "cell_type": "code",
   "execution_count": 621,
   "source": [
    "def load_labels(file):\n",
    "    with open(file, \"rb\") as f:\n",
    "        data = f.read()\n",
    "    \n",
    "    magic_number, num_samples = struct.unpack(\">ii\", data[:8])\n",
    "    if magic_number != 2049:   # 0x00000801\n",
    "        print(f\"magic number mismatch {magic_number} != 2049\")\n",
    "        return None\n",
    "    \n",
    "    labels = np.array(list(data[8:]))\n",
    "    return labels\n",
    "\n",
    "def load_images(file):\n",
    "    with open(file, \"rb\") as f:\n",
    "        data = f.read()\n",
    "\n",
    "    magic_number, num_samples, image_width, image_height = struct.unpack(\">iiii\", data[:16])\n",
    "    if magic_number != 2051:   # 0x00000803\n",
    "        print(f\"magic number mismatch {magic_number} != 2051\")\n",
    "        return None\n",
    "    \n",
    "    image_data = np.asarray(list(data[16:]), dtype=np.uint8).reshape(num_samples, -1)\n",
    "    return image_data"
   ],
   "outputs": [],
   "metadata": {}
  },
  {
   "cell_type": "code",
   "execution_count": 538,
   "source": [
    "def one_hot(labels, classes):\n",
    "    n = len(labels)\n",
    "    output = np.zeros((n, classes), dtype=np.int32)\n",
    "    for row, label in enumerate(labels):\n",
    "        output[row, label] = 1\n",
    "    return output"
   ],
   "outputs": [],
   "metadata": {}
  },
  {
   "cell_type": "code",
   "execution_count": 624,
   "source": [
    "val_labels = load_labels(\"dataset/t10k-labels-idx1-ubyte\")   #  10000,\n",
    "val_images = load_images(\"dataset/t10k-images-idx3-ubyte\")   #  10000, 784\n",
    "numdata = val_images.shape[0] # 60000\n",
    "val_images = np.hstack((val_images / 255 - 0.5, np.ones((numdata, 1))))   # 10000, 785\n",
    "val_pd = pd.DataFrame(val_labels, columns=[\"label\"])\n",
    "\n",
    "train_labels = load_labels(\"dataset/train-labels-idx1-ubyte\") # 60000,\n",
    "train_images = load_images(\"dataset/train-images-idx3-ubyte\") # 60000, 784\n",
    "numdata = train_images.shape[0] # 60000\n",
    "train_images = np.hstack((train_images / 255 - 0.5, np.ones((numdata, 1))))  # 60000, 785\n",
    "train_pd = pd.DataFrame(train_labels, columns=[\"label\"])\n",
    "\n",
    "def show_hist(labels, num_classes):\n",
    "    label_map = {key : 0 for key in range(num_classes)}\n",
    "    for label in labels:\n",
    "        label_map[label] += 1\n",
    "        \n",
    "    labels_hist = [label_map[key] for key in range(num_classes)]\n",
    "    pd.DataFrame(labels_hist, columns=[\"label\"]).plot(kind=\"bar\")\n",
    "    \n",
    "show_hist(train_labels, 10)"
   ],
   "outputs": [
    {
     "output_type": "display_data",
     "data": {
      "image/png": "[encoded data removed]",
      "text/plain": [
       "<Figure size 432x288 with 1 Axes>"
      ]
     },
     "metadata": {
      "needs_background": "light"
     }
    }
   ],
   "metadata": {}
  },
  {
   "cell_type": "code",
   "execution_count": 625,
   "source": [
    "train_pd.describe()"
   ],
   "outputs": [
    {
     "output_type": "execute_result",
     "data": {
      "text/html": [
       "<div>\n",
       "<style scoped>\n",
       "    .dataframe tbody tr th:only-of-type {\n",
       "        vertical-align: middle;\n",
       "    }\n",
       "\n",
       "    .dataframe tbody tr th {\n",
       "        vertical-align: top;\n",
       "    }\n",
       "\n",
       "    .dataframe thead th {\n",
       "        text-align: right;\n",
       "    }\n",
       "</style>\n",
       "<table border=\"1\" class=\"dataframe\">\n",
       "  <thead>\n",
       "    <tr style=\"text-align: right;\">\n",
       "      <th></th>\n",
       "      <th>label</th>\n",
       "    </tr>\n",
       "  </thead>\n",
       "  <tbody>\n",
       "    <tr>\n",
       "      <th>count</th>\n",
       "      <td>60000.000000</td>\n",
       "    </tr>\n",
       "    <tr>\n",
       "      <th>mean</th>\n",
       "      <td>4.453933</td>\n",
       "    </tr>\n",
       "    <tr>\n",
       "      <th>std</th>\n",
       "      <td>2.889270</td>\n",
       "    </tr>\n",
       "    <tr>\n",
       "      <th>min</th>\n",
       "      <td>0.000000</td>\n",
       "    </tr>\n",
       "    <tr>\n",
       "      <th>25%</th>\n",
       "      <td>2.000000</td>\n",
       "    </tr>\n",
       "    <tr>\n",
       "      <th>50%</th>\n",
       "      <td>4.000000</td>\n",
       "    </tr>\n",
       "    <tr>\n",
       "      <th>75%</th>\n",
       "      <td>7.000000</td>\n",
       "    </tr>\n",
       "    <tr>\n",
       "      <th>max</th>\n",
       "      <td>9.000000</td>\n",
       "    </tr>\n",
       "  </tbody>\n",
       "</table>\n",
       "</div>"
      ],
      "text/plain": [
       "              label\n",
       "count  60000.000000\n",
       "mean       4.453933\n",
       "std        2.889270\n",
       "min        0.000000\n",
       "25%        2.000000\n",
       "50%        4.000000\n",
       "75%        7.000000\n",
       "max        9.000000"
      ]
     },
     "metadata": {},
     "execution_count": 625
    }
   ],
   "metadata": {}
  },
  {
   "cell_type": "code",
   "execution_count": 626,
   "source": [
    "train_pd.value_counts()"
   ],
   "outputs": [
    {
     "output_type": "execute_result",
     "data": {
      "text/plain": [
       "label\n",
       "1        6742\n",
       "7        6265\n",
       "3        6131\n",
       "2        5958\n",
       "9        5949\n",
       "0        5923\n",
       "6        5918\n",
       "8        5851\n",
       "4        5842\n",
       "5        5421\n",
       "dtype: int64"
      ]
     },
     "metadata": {},
     "execution_count": 626
    }
   ],
   "metadata": {}
  },
  {
   "cell_type": "code",
   "execution_count": 542,
   "source": [
    "class Dataset:\n",
    "    def __init__(self, images, labels):\n",
    "        self.images = images\n",
    "        self.labels = labels\n",
    "        \n",
    "    # 获取他的一个item，  dataset = Dataset(),   dataset[index]\n",
    "    def __getitem__(self, index):\n",
    "        return self.images[index], self.labels[index]\n",
    "    \n",
    "    # 获取数据集的长度，个数\n",
    "    def __len__(self):\n",
    "        return len(self.images)"
   ],
   "outputs": [],
   "metadata": {}
  },
  {
   "cell_type": "code",
   "execution_count": 543,
   "source": [
    "class DataLoaderIterator:\n",
    "    def __init__(self, dataloader):\n",
    "        self.dataloader = dataloader\n",
    "        self.cursor = 0\n",
    "        self.indexs = list(range(self.dataloader.count_data))  # 0, ... 60000\n",
    "        if self.dataloader.shuffle:\n",
    "            # 打乱一下\n",
    "            random.shuffle(self.indexs)\n",
    "            \n",
    "    # 合并batch的数据\n",
    "    def merge_to(self, container, b):\n",
    "        if len(container) == 0:\n",
    "            for index, data in enumerate(b):\n",
    "                if isinstance(data, np.ndarray):\n",
    "                    container.append(data)\n",
    "                else:\n",
    "                    container.append(np.array([data], dtype=type(data)))\n",
    "        else:\n",
    "            for index, data in enumerate(b):\n",
    "                container[index] = np.vstack((container[index], data))\n",
    "        return container\n",
    "                \n",
    "    def __next__(self):\n",
    "        if self.cursor >= self.dataloader.count_data:\n",
    "            raise StopIteration()\n",
    "            \n",
    "        batch_data = []\n",
    "        remain = min(self.dataloader.batch_size, self.dataloader.count_data - self.cursor)  #  256, 128\n",
    "        for n in range(remain):\n",
    "            index = self.indexs[self.cursor]\n",
    "            data = self.dataloader.dataset[index]\n",
    "            batch_data = self.merge_to(batch_data, data)\n",
    "            self.cursor += 1\n",
    "        return batch_data\n",
    "\n",
    "class DataLoader:\n",
    "    \n",
    "    # shuffle 打乱\n",
    "    def __init__(self, dataset, batch_size, shuffle):\n",
    "        self.dataset = dataset\n",
    "        self.shuffle = shuffle\n",
    "        self.count_data = len(dataset)\n",
    "        self.batch_size = batch_size\n",
    "        \n",
    "    def __iter__(self):\n",
    "        return DataLoaderIterator(self)\n",
    "        "
   ],
   "outputs": [],
   "metadata": {}
  },
  {
   "cell_type": "code",
   "execution_count": 702,
   "source": [
    "def estimate(plabel, gt_labels, classes):\n",
    "    plabel = plabel.copy()\n",
    "    gt_labels = gt_labels.copy()\n",
    "    match_mask = plabel == classes\n",
    "    mismatch_mask = plabel != classes\n",
    "    plabel[match_mask] = 1\n",
    "    plabel[mismatch_mask] = 0\n",
    "    \n",
    "    gt_mask = gt_labels == classes\n",
    "    gt_mismatch_mask = gt_labels != classes\n",
    "    gt_labels[gt_mask] = 1\n",
    "    gt_labels[gt_mismatch_mask] = 0\n",
    "    \n",
    "    TP = sum(plabel & gt_labels)\n",
    "    FP = sum(plabel & (1 - gt_labels))\n",
    "    FN = sum((1 - plabel) & gt_labels)\n",
    "    TN = sum((1 - plabel) & (1 - gt_labels))\n",
    "    \n",
    "    precision = TP / (TP + FP)\n",
    "    recall = TP / (TP + FN)\n",
    "    accuracy = (TP + TN) / (TP + FP + FN + TN)\n",
    "    F1 = 2 * (precision * recall) / (precision + recall)\n",
    "    return precision, recall, accuracy, F1\n",
    "\n",
    "def estimate_val(images, gt_labels, theta, classes):\n",
    "    predict = sigmoid(val_images @ theta)\n",
    "    plabel = predict.argmax(1)\n",
    "    prob = plabel == val_labels\n",
    "    total_images = images.shape[0]\n",
    "    accuracy = sum(prob) / total_images\n",
    "    return accuracy, cross_entropy(predict, one_hot(gt_labels, classes))\n",
    "\n",
    "def cross_entropy(predict, gt):\n",
    "    eps = 1e-4\n",
    "    predict = np.clip(predict, a_max=1-eps, a_min=eps)  # 裁切\n",
    "    batch_size = predict.shape[0]\n",
    "    return -np.sum(gt * np.log(predict) + (1 - gt) * np.log(1 - predict)) / batch_size\n",
    "\n",
    "def lr_schedule_cosine(lr_min, lr_max, per_epochs):\n",
    "    def compute(epoch):\n",
    "        return lr_min + 0.5 * (lr_max - lr_min) * (1 + np.cos(epoch / per_epochs * np.pi))\n",
    "    return compute"
   ],
   "outputs": [],
   "metadata": {}
  },
  {
   "cell_type": "markdown",
   "source": [
    "#### 概念\n",
    "1. 学习率策略，余弦退火+周期性重启+warm-up\n",
    "2. epoch，轮数，把所有数据都过一遍，称之为一个epoch。一次一个batch(256个图)，多少次才能迭代完一个epoch = ceil(60000 / 256)\n",
    "3. dataset（仅仅是对数据集做管理，如果是文件存储，则在\\_\\_getitem\\_\\_时当场读取和实现等数据准备工作）和dataloader，使用他们来管理数据\n",
    "4. One-Hot的概念"
   ],
   "metadata": {}
  },
  {
   "cell_type": "markdown",
   "source": [
    "10 \n",
    "-sum(label * log(predict) + (1 - label) * log(1 - predict))\n",
    "\n",
    "\n",
    "不 就是他\n",
    "0   1    -> 0 \n",
    "0   1    -> 1\n",
    "0   1    -> 2\n",
    "0   1    -> 3\n",
    "0   1    -> 4\n",
    "\n",
    "gt = 3\n",
    "\n",
    "predict = \n",
    "0.3     0\n",
    "0.5     0\n",
    "0.1     0\n",
    "0.9     1\n",
    "0.1     0\n",
    "0.1     0\n",
    "0.2     0\n",
    "0.1     0\n",
    "0.3     0\n",
    "0.1     0\n",
    "\n",
    "3 ->  0 0 0 1 0 0 0 0 0 0 0 0 0   one hot\n",
    "\n",
    "### 余弦退火学习率+周期性重启\n",
    "* [参考地址](https://pytorch.org/docs/stable/optim.html?highlight=cosine#torch.optim.lr_scheduler.CosineAnnealingLR)\n",
    "* 很多博客讲的都是错的，不要被误导了\n",
    "* [论文地址](https://arxiv.org/pdf/1608.03983.pdf)\n",
    "* 公式\n",
    "* $$ \\eta_t = \\eta_{min} + \\frac{1}{2}(\\eta_{max} - \\eta_{min})(1 + \\cos(\\frac{T_{cur}}{T_{i}}\\pi)) $$"
   ],
   "metadata": {}
  },
  {
   "cell_type": "code",
   "execution_count": 643,
   "source": [
    "draw_x = np.arange(0, 300)\n",
    "x = list(range(100)) + list(range(100)) + list(range(100))\n",
    "y = list(map(lr_schedule_cosine(1e-2, 1e-1, 100), x))\n",
    "plt.plot(draw_x, y, \"b-\")"
   ],
   "outputs": [
    {
     "output_type": "execute_result",
     "data": {
      "text/plain": [
       "[<matplotlib.lines.Line2D at 0x1206c2048>]"
      ]
     },
     "metadata": {},
     "execution_count": 643
    },
    {
     "output_type": "display_data",
     "data": {
      "image/png": "[encoded data removed]",
      "text/plain": [
       "<Figure size 432x288 with 1 Axes>"
      ]
     },
     "metadata": {
      "needs_background": "light"
     }
    }
   ],
   "metadata": {}
  },
  {
   "cell_type": "code",
   "execution_count": 723,
   "source": [
    "import matplotlib.pyplot as plt\n",
    "\n",
    "def sigmoid(x):\n",
    "    return 1 / (1 + np.exp(-x))\n",
    "\n",
    "classes = 10                  # 定义10个类别\n",
    "batch_size = 512              # 定义每个批次的大小\n",
    "lr_warm_up_alpha = 1e-2       # 定义warm up的起点值\n",
    "lr_min = 1e-4                 # cosine学习率的最小值\n",
    "lr_max = 1e-1                 # cosine学习率的最大值\n",
    "epochs = 10                   # 退出策略，也就是最大把所有数据看10次\n",
    "numdata, data_dims = train_images.shape  # 60000, 785\n",
    "\n",
    "# 定义dataloader和dataset，用于数据抓取\n",
    "train_data = DataLoader(Dataset(train_images, one_hot(train_labels, classes)), batch_size, shuffle=True) \n",
    "\n",
    "# 初始化theta参数，采用正态分布，大小是数据维度为行，类别数为列。kaiming\n",
    "theta = np.random.normal(size=(data_dims, classes))\n",
    "iters = 0   # 定义迭代次数，因为我们需要展示loss曲线，那么x将会是iters\n",
    "\n",
    "# 定义warm up的参数，我们在开始值是0.01，1轮时为0.1，2轮时回归cosine学习率，所以是1\n",
    "lr_warm_up_schedule = {\n",
    "    1: 1e-1,\n",
    "    2: 1\n",
    "}\n",
    "\n",
    "cosine_total_epoch = 3    # 定义cosine学习率的周期大小，固定为3.\n",
    "cosine_itepoch = 0        # 定义cosine学习率的周期内epoch索引\n",
    "lr_cosine_schedule = lr_schedule_cosine(lr_min, lr_max, cosine_total_epoch)   # 定义cosine学习率的函数，指定好参数\n",
    "train_losses = []         # 定义train loss的收集变量，用于后面的绘图展示\n",
    "val_losses = []           # 定义val loss的收集变量（accuracy，loss），用于后面的绘图展示\n",
    "\n",
    "# 开始进行epoch循环，总数是epochs次\n",
    "for epoch in range(epochs):\n",
    "    \n",
    "    # 如果cosine学习率的周期索引达到了周期的最后一次时，将其索引置位为0，相当于是周期性重启的意思\n",
    "    if cosine_itepoch == cosine_total_epoch:\n",
    "        cosine_itepoch = 0\n",
    "    \n",
    "    # 通过周期epoch索引来计算当前应该给定的学习率值\n",
    "    lr_select = lr_cosine_schedule(cosine_itepoch)\n",
    "    \n",
    "    # 周期索引+1\n",
    "    cosine_itepoch += 1\n",
    "    \n",
    "    # 如果当前的迭代次数在warm up计划改变的节点时。就修改warm up的alpha值为当前需要修改的值\n",
    "    if epoch in lr_warm_up_schedule:\n",
    "        lr_warm_up_alpha = lr_warm_up_schedule[epoch]\n",
    "        \n",
    "    # 定义最终的学习率，是等于cosine学习率 * warm_up_alpha\n",
    "    lr = lr_select * lr_warm_up_alpha\n",
    "    print(f\"Set learning rate to {lr:.5f}\")\n",
    "    \n",
    "    # 对一个批次内的数据进行迭代，每一次迭代都是一个batch（即256）\n",
    "    for index, (images, labels) in enumerate(train_data):\n",
    "        \n",
    "        # 计算预测值\n",
    "        predict = images @ theta  # n * 785    dot   785  * 10   =  n * 10\n",
    "        \n",
    "        # 转换为概率\n",
    "        predict = sigmoid(predict)\n",
    "        \n",
    "        # 计算loss值\n",
    "        loss = cross_entropy(predict, labels)\n",
    "\n",
    "        # 计算theta的梯度\n",
    "        d_theta = images.T @ (predict - labels)   #  785xn  dot  nx10  = 785 x 10\n",
    "        \n",
    "        # 更新theta。除以batch_size是为了求平均值\n",
    "        theta = theta - lr * d_theta / batch_size\n",
    "        iters += 1\n",
    "        \n",
    "        #记录当前的迭代信息和loss值，为后面展示做准备\n",
    "        train_losses.append([iters, loss])\n",
    "\n",
    "        if index % 100 == 0:\n",
    "            print(f\"Iter {iters}. {epoch} / {epochs}, Loss: {loss:.3f}, Learning Rate: {lr:.5f}\")\n",
    "        \n",
    "    # 每一轮结束后，每把数据全看完一遍后，使用theta对测试数据集进行测试。来检验训练效果\n",
    "    val_accuracy, val_loss = estimate_val(val_images, val_labels, theta, classes)\n",
    "    \n",
    "    # 记录val的loss和accuracy，用于后面展示\n",
    "    val_losses.append([iters, val_accuracy, val_loss])\n",
    "    print(f\"Val set, Accuracy: {val_accuracy}, Loss: {val_loss}\")"
   ],
   "outputs": [
    {
     "output_type": "stream",
     "name": "stdout",
     "text": [
      "Set learning rate to 0.00100\n",
      "Iter 1. 0 / 10, Loss: 30.645, Learning Rate: 0.00100\n"
     ]
    },
    {
     "output_type": "error",
     "ename": "KeyboardInterrupt",
     "evalue": "",
     "traceback": [
      "\u001b[0;31m---------------------------------------------------------------------------\u001b[0m",
      "\u001b[0;31mKeyboardInterrupt\u001b[0m                         Traceback (most recent call last)",
      "\u001b[0;32m<ipython-input-723-ff4954a8e1dd>\u001b[0m in \u001b[0;36m<module>\u001b[0;34m\u001b[0m\n\u001b[1;32m     53\u001b[0m \u001b[0;34m\u001b[0m\u001b[0m\n\u001b[1;32m     54\u001b[0m     \u001b[0;31m# 对一个批次内的数据进行迭代，每一次迭代都是一个batch（即256）\u001b[0m\u001b[0;34m\u001b[0m\u001b[0;34m\u001b[0m\u001b[0m\n\u001b[0;32m---> 55\u001b[0;31m     \u001b[0;32mfor\u001b[0m \u001b[0mindex\u001b[0m\u001b[0;34m,\u001b[0m \u001b[0;34m(\u001b[0m\u001b[0mimages\u001b[0m\u001b[0;34m,\u001b[0m \u001b[0mlabels\u001b[0m\u001b[0;34m)\u001b[0m \u001b[0;32min\u001b[0m \u001b[0menumerate\u001b[0m\u001b[0;34m(\u001b[0m\u001b[0mtrain_data\u001b[0m\u001b[0;34m)\u001b[0m\u001b[0;34m:\u001b[0m\u001b[0;34m\u001b[0m\u001b[0m\n\u001b[0m\u001b[1;32m     56\u001b[0m \u001b[0;34m\u001b[0m\u001b[0m\n\u001b[1;32m     57\u001b[0m         \u001b[0;31m# 计算预测值\u001b[0m\u001b[0;34m\u001b[0m\u001b[0;34m\u001b[0m\u001b[0m\n",
      "\u001b[0;32m<ipython-input-543-919b06f9d7a4>\u001b[0m in \u001b[0;36m__next__\u001b[0;34m(self)\u001b[0m\n\u001b[1;32m     28\u001b[0m             \u001b[0mindex\u001b[0m \u001b[0;34m=\u001b[0m \u001b[0mself\u001b[0m\u001b[0;34m.\u001b[0m\u001b[0mindexs\u001b[0m\u001b[0;34m[\u001b[0m\u001b[0mself\u001b[0m\u001b[0;34m.\u001b[0m\u001b[0mcursor\u001b[0m\u001b[0;34m]\u001b[0m\u001b[0;34m\u001b[0m\u001b[0m\n\u001b[1;32m     29\u001b[0m             \u001b[0mdatas\u001b[0m \u001b[0;34m=\u001b[0m \u001b[0mself\u001b[0m\u001b[0;34m.\u001b[0m\u001b[0mdataloader\u001b[0m\u001b[0;34m.\u001b[0m\u001b[0mdataset\u001b[0m\u001b[0;34m[\u001b[0m\u001b[0mindex\u001b[0m\u001b[0;34m]\u001b[0m\u001b[0;34m\u001b[0m\u001b[0m\n\u001b[0;32m---> 30\u001b[0;31m             \u001b[0mbatch_data\u001b[0m \u001b[0;34m=\u001b[0m \u001b[0mself\u001b[0m\u001b[0;34m.\u001b[0m\u001b[0mmerge_to\u001b[0m\u001b[0;34m(\u001b[0m\u001b[0mbatch_data\u001b[0m\u001b[0;34m,\u001b[0m \u001b[0mdatas\u001b[0m\u001b[0;34m)\u001b[0m\u001b[0;34m\u001b[0m\u001b[0m\n\u001b[0m\u001b[1;32m     31\u001b[0m             \u001b[0mself\u001b[0m\u001b[0;34m.\u001b[0m\u001b[0mcursor\u001b[0m \u001b[0;34m+=\u001b[0m \u001b[0;36m1\u001b[0m\u001b[0;34m\u001b[0m\u001b[0m\n\u001b[1;32m     32\u001b[0m         \u001b[0;32mreturn\u001b[0m \u001b[0mbatch_data\u001b[0m\u001b[0;34m\u001b[0m\u001b[0m\n",
      "\u001b[0;32m<ipython-input-543-919b06f9d7a4>\u001b[0m in \u001b[0;36mmerge_to\u001b[0;34m(self, container, b)\u001b[0m\n\u001b[1;32m     16\u001b[0m         \u001b[0;32melse\u001b[0m\u001b[0;34m:\u001b[0m\u001b[0;34m\u001b[0m\u001b[0m\n\u001b[1;32m     17\u001b[0m             \u001b[0;32mfor\u001b[0m \u001b[0mindex\u001b[0m\u001b[0;34m,\u001b[0m \u001b[0mdata\u001b[0m \u001b[0;32min\u001b[0m \u001b[0menumerate\u001b[0m\u001b[0;34m(\u001b[0m\u001b[0mb\u001b[0m\u001b[0;34m)\u001b[0m\u001b[0;34m:\u001b[0m\u001b[0;34m\u001b[0m\u001b[0m\n\u001b[0;32m---> 18\u001b[0;31m                 \u001b[0mcontainer\u001b[0m\u001b[0;34m[\u001b[0m\u001b[0mindex\u001b[0m\u001b[0;34m]\u001b[0m \u001b[0;34m=\u001b[0m \u001b[0mnp\u001b[0m\u001b[0;34m.\u001b[0m\u001b[0mvstack\u001b[0m\u001b[0;34m(\u001b[0m\u001b[0;34m(\u001b[0m\u001b[0mcontainer\u001b[0m\u001b[0;34m[\u001b[0m\u001b[0mindex\u001b[0m\u001b[0;34m]\u001b[0m\u001b[0;34m,\u001b[0m \u001b[0mdata\u001b[0m\u001b[0;34m)\u001b[0m\u001b[0;34m)\u001b[0m\u001b[0;34m\u001b[0m\u001b[0m\n\u001b[0m\u001b[1;32m     19\u001b[0m         \u001b[0;32mreturn\u001b[0m \u001b[0mcontainer\u001b[0m\u001b[0;34m\u001b[0m\u001b[0m\n\u001b[1;32m     20\u001b[0m \u001b[0;34m\u001b[0m\u001b[0m\n",
      "\u001b[0;32m<__array_function__ internals>\u001b[0m in \u001b[0;36mvstack\u001b[0;34m(*args, **kwargs)\u001b[0m\n",
      "\u001b[0;32m/Users/datav/projects/Lesson/1.bp/venv/lib/python3.6/site-packages/numpy/core/shape_base.py\u001b[0m in \u001b[0;36mvstack\u001b[0;34m(tup)\u001b[0m\n\u001b[1;32m    281\u001b[0m     \u001b[0;32mif\u001b[0m \u001b[0;32mnot\u001b[0m \u001b[0misinstance\u001b[0m\u001b[0;34m(\u001b[0m\u001b[0marrs\u001b[0m\u001b[0;34m,\u001b[0m \u001b[0mlist\u001b[0m\u001b[0;34m)\u001b[0m\u001b[0;34m:\u001b[0m\u001b[0;34m\u001b[0m\u001b[0m\n\u001b[1;32m    282\u001b[0m         \u001b[0marrs\u001b[0m \u001b[0;34m=\u001b[0m \u001b[0;34m[\u001b[0m\u001b[0marrs\u001b[0m\u001b[0;34m]\u001b[0m\u001b[0;34m\u001b[0m\u001b[0m\n\u001b[0;32m--> 283\u001b[0;31m     \u001b[0;32mreturn\u001b[0m \u001b[0m_nx\u001b[0m\u001b[0;34m.\u001b[0m\u001b[0mconcatenate\u001b[0m\u001b[0;34m(\u001b[0m\u001b[0marrs\u001b[0m\u001b[0;34m,\u001b[0m \u001b[0;36m0\u001b[0m\u001b[0;34m)\u001b[0m\u001b[0;34m\u001b[0m\u001b[0m\n\u001b[0m\u001b[1;32m    284\u001b[0m \u001b[0;34m\u001b[0m\u001b[0m\n\u001b[1;32m    285\u001b[0m \u001b[0;34m\u001b[0m\u001b[0m\n",
      "\u001b[0;32m<__array_function__ internals>\u001b[0m in \u001b[0;36mconcatenate\u001b[0;34m(*args, **kwargs)\u001b[0m\n",
      "\u001b[0;31mKeyboardInterrupt\u001b[0m: "
     ]
    }
   ],
   "metadata": {}
  },
  {
   "cell_type": "code",
   "execution_count": 652,
   "source": [
    "plt.figure(figsize=(20, 20))\n",
    "idxs = list(range(val_images.shape[0]))\n",
    "random.shuffle(idxs)\n",
    "idxs = idxs[:25]\n",
    "for index, image_index in enumerate(idxs):\n",
    "    item = val_images[image_index]\n",
    "    gt = val_labels[image_index]\n",
    "    prob = sigmoid(item @ theta)\n",
    "    plabel = np.argmax(prob)\n",
    "    confidence = prob[plabel]\n",
    "    image = item[:-1].reshape(28, 28)\n",
    "    plt.subplot(5, 5, index + 1)\n",
    "    plt.title(f\"Predict: {plabel}, True: {gt}, Score: {confidence:.2f}\")\n",
    "    plt.imshow(image)  # cmap=\"gray\""
   ],
   "outputs": [
    {
     "output_type": "display_data",
     "data": {
      "image/png": "[encoded data removed]",
      "text/plain": [
       "<Figure size 1440x1440 with 25 Axes>"
      ]
     },
     "metadata": {
      "needs_background": "light"
     }
    }
   ],
   "metadata": {}
  },
  {
   "cell_type": "code",
   "execution_count": 654,
   "source": [
    "# 构建plots，获取到其中的ax\n",
    "fig, (ax, _) = plt.subplots(1, 2, figsize=(18, 6))\n",
    "plt.subplot(1, 2, 1)\n",
    "plt.title(\"Train And Val\")\n",
    "train_losses_np = np.array(train_losses)\n",
    "val_losses_np = np.array(val_losses)\n",
    "plt.plot(train_losses_np[:, 0], train_losses_np[:, 1], \"y-\")\n",
    "plt.plot(val_losses_np[:, 0], val_losses_np[:, 2], \"r-\")\n",
    "plt.legend(('Train Loss', 'Val Loss'), loc='upper right', fontsize=\"large\")\n",
    "ax.set_xlabel(\"Iter\", fontsize=\"large\")\n",
    "ax.set_ylabel(\"Loss\", fontsize=\"large\")\n",
    "\n",
    "# 对第二个图做绘图\n",
    "plt.subplot(1, 2, 2)\n",
    "plt.title(\"Val Accuracy\")\n",
    "plt.plot(val_losses_np[:, 0], val_losses_np[:, 1], \"b-\")"
   ],
   "outputs": [
    {
     "output_type": "execute_result",
     "data": {
      "text/plain": [
       "[<matplotlib.lines.Line2D at 0x125ea83c8>]"
      ]
     },
     "metadata": {},
     "execution_count": 654
    },
    {
     "output_type": "display_data",
     "data": {
      "image/png": "[encoded data removed]",
      "text/plain": [
       "<Figure size 1296x432 with 2 Axes>"
      ]
     },
     "metadata": {
      "needs_background": "light"
     }
    }
   ],
   "metadata": {}
  },
  {
   "cell_type": "markdown",
   "source": [
    "### 绘制混淆矩阵"
   ],
   "metadata": {}
  },
  {
   "cell_type": "code",
   "execution_count": 693,
   "source": [
    "all_predict = (val_images @ theta).argmax(1)\n",
    "pd.crosstab(all_predict, val_labels, rownames=[\"predict\"], colnames=[\"groundtruth\"])"
   ],
   "outputs": [
    {
     "output_type": "execute_result",
     "data": {
      "text/html": [
       "<div>\n",
       "<style scoped>\n",
       "    .dataframe tbody tr th:only-of-type {\n",
       "        vertical-align: middle;\n",
       "    }\n",
       "\n",
       "    .dataframe tbody tr th {\n",
       "        vertical-align: top;\n",
       "    }\n",
       "\n",
       "    .dataframe thead th {\n",
       "        text-align: right;\n",
       "    }\n",
       "</style>\n",
       "<table border=\"1\" class=\"dataframe\">\n",
       "  <thead>\n",
       "    <tr style=\"text-align: right;\">\n",
       "      <th>groundtruth</th>\n",
       "      <th>0</th>\n",
       "      <th>1</th>\n",
       "      <th>2</th>\n",
       "      <th>3</th>\n",
       "      <th>4</th>\n",
       "      <th>5</th>\n",
       "      <th>6</th>\n",
       "      <th>7</th>\n",
       "      <th>8</th>\n",
       "      <th>9</th>\n",
       "    </tr>\n",
       "    <tr>\n",
       "      <th>predict</th>\n",
       "      <th></th>\n",
       "      <th></th>\n",
       "      <th></th>\n",
       "      <th></th>\n",
       "      <th></th>\n",
       "      <th></th>\n",
       "      <th></th>\n",
       "      <th></th>\n",
       "      <th></th>\n",
       "      <th></th>\n",
       "    </tr>\n",
       "  </thead>\n",
       "  <tbody>\n",
       "    <tr>\n",
       "      <th>0</th>\n",
       "      <td>910</td>\n",
       "      <td>0</td>\n",
       "      <td>28</td>\n",
       "      <td>15</td>\n",
       "      <td>2</td>\n",
       "      <td>25</td>\n",
       "      <td>19</td>\n",
       "      <td>6</td>\n",
       "      <td>17</td>\n",
       "      <td>10</td>\n",
       "    </tr>\n",
       "    <tr>\n",
       "      <th>1</th>\n",
       "      <td>1</td>\n",
       "      <td>1075</td>\n",
       "      <td>19</td>\n",
       "      <td>7</td>\n",
       "      <td>4</td>\n",
       "      <td>7</td>\n",
       "      <td>7</td>\n",
       "      <td>19</td>\n",
       "      <td>18</td>\n",
       "      <td>4</td>\n",
       "    </tr>\n",
       "    <tr>\n",
       "      <th>2</th>\n",
       "      <td>9</td>\n",
       "      <td>6</td>\n",
       "      <td>808</td>\n",
       "      <td>28</td>\n",
       "      <td>7</td>\n",
       "      <td>13</td>\n",
       "      <td>24</td>\n",
       "      <td>27</td>\n",
       "      <td>14</td>\n",
       "      <td>12</td>\n",
       "    </tr>\n",
       "    <tr>\n",
       "      <th>3</th>\n",
       "      <td>8</td>\n",
       "      <td>4</td>\n",
       "      <td>23</td>\n",
       "      <td>812</td>\n",
       "      <td>8</td>\n",
       "      <td>57</td>\n",
       "      <td>4</td>\n",
       "      <td>14</td>\n",
       "      <td>31</td>\n",
       "      <td>15</td>\n",
       "    </tr>\n",
       "    <tr>\n",
       "      <th>4</th>\n",
       "      <td>3</td>\n",
       "      <td>1</td>\n",
       "      <td>26</td>\n",
       "      <td>1</td>\n",
       "      <td>798</td>\n",
       "      <td>30</td>\n",
       "      <td>17</td>\n",
       "      <td>11</td>\n",
       "      <td>18</td>\n",
       "      <td>60</td>\n",
       "    </tr>\n",
       "    <tr>\n",
       "      <th>5</th>\n",
       "      <td>17</td>\n",
       "      <td>3</td>\n",
       "      <td>4</td>\n",
       "      <td>55</td>\n",
       "      <td>18</td>\n",
       "      <td>644</td>\n",
       "      <td>22</td>\n",
       "      <td>4</td>\n",
       "      <td>54</td>\n",
       "      <td>28</td>\n",
       "    </tr>\n",
       "    <tr>\n",
       "      <th>6</th>\n",
       "      <td>13</td>\n",
       "      <td>4</td>\n",
       "      <td>33</td>\n",
       "      <td>15</td>\n",
       "      <td>18</td>\n",
       "      <td>31</td>\n",
       "      <td>843</td>\n",
       "      <td>6</td>\n",
       "      <td>21</td>\n",
       "      <td>3</td>\n",
       "    </tr>\n",
       "    <tr>\n",
       "      <th>7</th>\n",
       "      <td>1</td>\n",
       "      <td>1</td>\n",
       "      <td>33</td>\n",
       "      <td>22</td>\n",
       "      <td>14</td>\n",
       "      <td>23</td>\n",
       "      <td>1</td>\n",
       "      <td>887</td>\n",
       "      <td>13</td>\n",
       "      <td>30</td>\n",
       "    </tr>\n",
       "    <tr>\n",
       "      <th>8</th>\n",
       "      <td>14</td>\n",
       "      <td>39</td>\n",
       "      <td>46</td>\n",
       "      <td>41</td>\n",
       "      <td>33</td>\n",
       "      <td>39</td>\n",
       "      <td>18</td>\n",
       "      <td>7</td>\n",
       "      <td>763</td>\n",
       "      <td>28</td>\n",
       "    </tr>\n",
       "    <tr>\n",
       "      <th>9</th>\n",
       "      <td>4</td>\n",
       "      <td>2</td>\n",
       "      <td>12</td>\n",
       "      <td>14</td>\n",
       "      <td>80</td>\n",
       "      <td>23</td>\n",
       "      <td>3</td>\n",
       "      <td>47</td>\n",
       "      <td>25</td>\n",
       "      <td>819</td>\n",
       "    </tr>\n",
       "  </tbody>\n",
       "</table>\n",
       "</div>"
      ],
      "text/plain": [
       "groundtruth    0     1    2    3    4    5    6    7    8    9\n",
       "predict                                                       \n",
       "0            910     0   28   15    2   25   19    6   17   10\n",
       "1              1  1075   19    7    4    7    7   19   18    4\n",
       "2              9     6  808   28    7   13   24   27   14   12\n",
       "3              8     4   23  812    8   57    4   14   31   15\n",
       "4              3     1   26    1  798   30   17   11   18   60\n",
       "5             17     3    4   55   18  644   22    4   54   28\n",
       "6             13     4   33   15   18   31  843    6   21    3\n",
       "7              1     1   33   22   14   23    1  887   13   30\n",
       "8             14    39   46   41   33   39   18    7  763   28\n",
       "9              4     2   12   14   80   23    3   47   25  819"
      ]
     },
     "metadata": {},
     "execution_count": 693
    }
   ],
   "metadata": {}
  },
  {
   "cell_type": "code",
   "execution_count": 720,
   "source": [
    "# precision, recall, accuracy, F1\n",
    "alls = np.array([estimate(all_predict, val_labels, l) for l in range(10)])\n",
    "\n",
    "reduce = 1\n",
    "for v in alls[:, 0]:\n",
    "    reduce *= v\n",
    "    \n",
    "#reduce\n",
    "#np.sum(all_predict == val_labels) / all_predict.shape[0]\n",
    "alls"
   ],
   "outputs": [
    {
     "output_type": "execute_result",
     "data": {
      "text/plain": [
       "array([[0.88178295, 0.92857143, 0.9808    , 0.90457256],\n",
       "       [0.92592593, 0.94713656, 0.9854    , 0.93641115],\n",
       "       [0.85232068, 0.78294574, 0.9636    , 0.81616162],\n",
       "       [0.83196721, 0.8039604 , 0.9638    , 0.81772407],\n",
       "       [0.82694301, 0.81262729, 0.9649    , 0.81972265],\n",
       "       [0.75853946, 0.72197309, 0.9547    , 0.73980471],\n",
       "       [0.85410334, 0.87995825, 0.9741    , 0.86683805],\n",
       "       [0.86536585, 0.86284047, 0.9721    , 0.86410132],\n",
       "       [0.7422179 , 0.78336756, 0.9524    , 0.76223776],\n",
       "       [0.79591837, 0.81169475, 0.96      , 0.80372915]])"
      ]
     },
     "metadata": {},
     "execution_count": 720
    }
   ],
   "metadata": {}
  },
  {
   "cell_type": "markdown",
   "source": [
    "### 知识点总结\n",
    "1. bytes数据转换到numpy，二进制数据读取，**以后常用**，使用np.asarray(bytearray())\n",
    "2. bytes数据转换到基本类型，使用struct.unpack()其中<表示小端，>表示大端。如果<不行试试>就行了，不用记住他。这是网络字节序\n",
    "3. 使用Dataset管理数据集\n",
    "4. 使用DataLoader生成迭代器DataLoaderIterator，由DataLoaderIterator负责随机获取下一个样本，随机打乱的概念\n",
    "    - GD(Gradient Descent)和SGD(Stochastic Gradient Descent)\n",
    "5. epoch的概念\n",
    "6. one_hot的概念\n",
    "7. 数据归一化的概念，/ 255 - 0.5\n",
    "8. loss曲线的概念，loss曲线可以使用类似TensorBoard来实现实时展示\n",
    "9. 混淆矩阵的概念，通过混淆矩阵对数据进行分析\n",
    "10. pandas的基本简单实用，DataFrame就类似excel的一个表格，可以通过不同函数实现统计绘图分析工作，而jupyter直接内置pandas和plot的可视化，很方便\n",
    "    - pd.DataFrame\n",
    "    - describe()\n",
    "    - value_counts()\n",
    "    - plot()\n",
    "    - pd.crosstab()\n",
    "11. 直方图的使用场景\n",
    "12. matplotlib.pyplot的使用，以及多图的显示subplot，numpy的使用\n",
    "13. 预弦退火学习率策略，warm-up策略"
   ],
   "metadata": {}
  },
  {
   "cell_type": "markdown",
   "source": [
    "### 今日作业\n",
    "1. 实现mnist数据的读取\n",
    "2. 实现Dataset、DataLoader结构的类\n",
    "3. 实现基于Epoch的迭代训练方式，使用逻辑回归对mnist数据集进行训练\n",
    "4. 显示loss曲线图，验证精度accuracy图。展示每个类别的4项指标（precision, recall, accuracy, F1），这个课件中没有实现这一项工作哦。记住是每个类别的"
   ],
   "metadata": {}
  },
  {
   "cell_type": "code",
   "execution_count": null,
   "source": [],
   "outputs": [],
   "metadata": {}
  }
 ],
 "metadata": {
  "kernelspec": {
   "display_name": "Python 3",
   "language": "python",
   "name": "python3"
  },
  "language_info": {
   "codemirror_mode": {
    "name": "ipython",
    "version": 3
   },
   "file_extension": ".py",
   "mimetype": "text/x-python",
   "name": "python",
   "nbconvert_exporter": "python",
   "pygments_lexer": "ipython3",
   "version": "3.6.4"
  }
 },
 "nbformat": 4,
 "nbformat_minor": 4
}