{
 "cells": [
  {
   "cell_type": "markdown",
   "metadata": {},
   "source": [
    "# 冒泡排序"
   ]
  },
  {
   "cell_type": "code",
   "execution_count": 2,
   "metadata": {},
   "outputs": [
    {
     "name": "stdout",
     "output_type": "stream",
     "text": [
      "排列前=[2, 0, 1, 3, 5, 1, 1]\n",
      "排列后=[0, 1, 1, 1, 2, 3, 5]\n"
     ]
    }
   ],
   "source": [
    "def bubbleSort(arr):\n",
    "    for i in range(len(arr)): \n",
    "        for j in range(len(arr)-1 - i):  #  注意！一共有len(arr)个元素，排序完成了i个，剩下len(arr)-i个，还要两两比较len(arr)-i-1次\n",
    "            if arr[j] > arr[j + 1]:      #  从另一个角度去考虑： j+1--->所以要len(arr)-i-1\n",
    "                arr[j+1],arr[j] = arr[j],arr[j+1]\n",
    "    return arr\n",
    "\n",
    "arr = [2, 0, 1, 3, 5, 1, 1]\n",
    "print(f\"排列前={arr}\")\n",
    "print(f\"排列后={bubbleSort(arr)}\")"
   ]
  },
  {
   "cell_type": "markdown",
   "metadata": {},
   "source": [
    "# 快排递归"
   ]
  },
  {
   "cell_type": "markdown",
   "metadata": {},
   "source": [
    "## 非inplace方法"
   ]
  },
  {
   "cell_type": "code",
   "execution_count": 16,
   "metadata": {},
   "outputs": [
    {
     "data": {
      "text/plain": [
       "[-1, 0, 1, 1, 1, 2, 3, 5]"
      ]
     },
     "execution_count": 16,
     "metadata": {},
     "output_type": "execute_result"
    }
   ],
   "source": [
    "def quickSort(arr):\n",
    "    '''\n",
    "    quickSort 的功能：将arr分成三部分 比pivot小的数、pivot和比pivot大的数，并按[Less,pivot,greater]的顺序重新排列\n",
    "    临界条件（递归退出条件）：\n",
    "    当只有两个值的时候，[2,1]\n",
    "    pivot = 2\n",
    "    less = [1]\n",
    "    greater = []\n",
    "    则该subarray = [1,2]\n",
    "    reference: 《grokking algorithm》by Aditya Bhargava\n",
    "    '''\n",
    "\n",
    "    if len(arr) < 2:   # 如果arr里没有元素或者只有1个元素\n",
    "        return arr     # 不用排序直接返回值\n",
    "\n",
    "    else:\n",
    "        pivot = arr.pop()                                  # pivot为比较点，默认设为arr中的最后一个元素，之所以用pop就是因为pivot应该独立出去来和arr的其他元素进行比较。\n",
    "        less = [i for i in arr if i <= pivot]              # arr中比pivot小的都放在左边\n",
    "        greater = [i for i in arr if i > pivot]            # arr中比pivot大的都放在右边\n",
    "                                                               \n",
    "        return quickSort(less) + [pivot] + quickSort(greater)  \n",
    "\n",
    "\n",
    "my_array = [0, 2, 1, 3, 5, 1, 1, -1]\n",
    "\n",
    "sorted_array= quickSort(my_array)\n",
    "sorted_array"
   ]
  },
  {
   "cell_type": "markdown",
   "metadata": {},
   "source": [
    "## inplace方法"
   ]
  },
  {
   "cell_type": "markdown",
   "metadata": {
    "tags": []
   },
   "source": [
    "* 我们使用的是双指针，基本思路是，left 和 right 所指元素跟pivot比较后如果不符合，则换位，如果符合，则继续呆在原位置，并且指针移动。<br>\n",
    "* 联想：arr[right]是第一个被抽走的人(pivot = arr[right])，它的继任arr[left]就可以占它的位置了arr[right]。继任的继任也可以占继任的位置了。简而言之由于pivot = arr[right]，整个arr的元素都不用担心被修改，因为他们都转移到了其他位置。"
   ]
  },
  {
   "cell_type": "code",
   "execution_count": 11,
   "metadata": {},
   "outputs": [
    {
     "name": "stdout",
     "output_type": "stream",
     "text": [
      "排列前=[2, 0, 1, 3, 5, 1, 1]\n",
      "排列后=[0, 1, 0, 5, 0, 0, 3]\n"
     ]
    }
   ],
   "source": [
    "def quickSort(arr, begin, end):\n",
    "    if begin > end:                   #  base case\n",
    "        return                        #  invalid case 所以不返回\n",
    "    \n",
    "    left = begin                      #  双指针left 和 right\n",
    "    right = end                       \n",
    "    pivot = arr[right]                #  随机选一个元素为pivot，一般我们取最左边的或者最右边的\n",
    "    \n",
    "    \n",
    "    while left < right:               #  一般的，我们都先不考虑相等的情况，相等的情况放在最后考虑\n",
    "\n",
    "        while arr[left] <= pivot:     #  如果左指针的指的值小于pivot，那么证明它就应该呆在原位置，指针向右移动，去考虑下一个元素\n",
    "            left += 1\n",
    "            \n",
    "        arr[right] = arr[left]        #  否则，证明该元素不应该在它所在的位置，应该发生换位操作。应该放到右边，右边承接它的是arr[right],arr[right]自身的值已经放在pivot了\n",
    "        \n",
    "        while arr[right] > pivot:     #  同理\n",
    "            right -= 1\n",
    "            \n",
    "        arr[left] = arr[right]        #  该元素不应该在现在所在位置，应该放到左边，左边承接它的是arr[left]，arr[left]原来的值已经通过arr[right] = arr[left]句子放好了。\n",
    "        \n",
    "    pivot = arr[left]                 #  此时left = right, 新的pivot可以选arr[left] or arr[right]\n",
    "    quickSort(arr, begin, left - 1)   #  递归（除去pivot本身）\n",
    "    quickSort(arr, left + 1, end)     \n",
    "    \n",
    "    return arr\n",
    "\n",
    "arr = [2, 0, 1, 3, 5, 1, 1]\n",
    "print(f\"排列前={arr}\")\n",
    "print(f\"排列后={quickSort(arr, 0, len(arr)-1)}\")\n",
    "    "
   ]
  },
  {
   "cell_type": "markdown",
   "metadata": {},
   "source": [
    "# 梯度下降"
   ]
  },
  {
   "cell_type": "markdown",
   "metadata": {},
   "source": [
    "* 目前，暂时地，我们默认loss function 是0.5*MSE<br>\n",
    "  因此\n",
    "$$\\frac{\\partial loss}{\\partial x} = (y - gt) * y' = \\Delta y * y' $$ <br>\n",
    "其中 $ $$ y = f(x) $$ $中$ $$f$$ $ 已知<br><br>\n",
    "* 这种求loss对x的偏导的方法依赖于已知的x对y的映射（x->y），否则我们求不出 $ $$y'$$ $。一般地，我们对损失函数那一层的参数更新(暂时看作x)可以使用这种方法，但是对于其他参数(暂时当作是z)的更新我们必须使用链式求导来推出，因为z和y的映射（z->y）的映射我们不知道,但是我们知道z到x的映射(z->x)，所以有<br><br>\n",
    "$$ \\frac{\\partial loss}{\\partial z} = \\frac{\\partial loss}{\\partial x} * \\frac{\\partial z}{\\partial x}$$\n",
    "<hr>"
   ]
  },
  {
   "cell_type": "markdown",
   "metadata": {},
   "source": [
    "## 使用梯度下降求解问题的方法论\n",
    "一般地，我们默认使用最小二乘法，因此我们需要构建出以下形式：<br><br>\n",
    "$$ MSE\\,loss = (predict - gt)^2 = (f(x) - gt)^2$$ <br>\n",
    "找出问题中的gt和计算出predict最为关键，只有这样我们才可以用以下公式进行参数更新（即依次对各个参数求导）<br><br>$$x = x + \\Delta x = x - lr*\\frac{\\partial loss}{\\partial x}$$"
   ]
  },
  {
   "cell_type": "markdown",
   "metadata": {},
   "source": [
    "### 例子：\n",
    "#### 使用梯度下降法解多元方程\n",
    "- 方程：$(x_1 - 3)^2 + (x_2 + 4)^2 = 0$的解<br><br>\n",
    "$ $$predict: f(x_1,x_2) = (x_1 - 3)^2 + (x_2 + 4)^2  $$ $<br>\n",
    "$ $$gt: 0$$ $"
   ]
  },
  {
   "cell_type": "code",
   "execution_count": 23,
   "metadata": {},
   "outputs": [
    {
     "data": {
      "text/plain": [
       "(3.0000000000000107, -3.9999999999999893)"
      ]
     },
     "execution_count": 23,
     "metadata": {},
     "output_type": "execute_result"
    }
   ],
   "source": [
    "# 我的写法（简洁但可读性差）\n",
    "# 特点： 直接对参数求导进行更新\n",
    "def gd(epoch = 2000):\n",
    "    x1 = 9\n",
    "    x2 = 4\n",
    "    for i in range(epoch):\n",
    "        x1 = x1 - 0.01*2*(x1-3)\n",
    "        x2 = x2 - 0.01*2*(x2+4)\n",
    "                \n",
    "    return x1,x2\n",
    "gd()"
   ]
  },
  {
   "cell_type": "code",
   "execution_count": 27,
   "metadata": {},
   "outputs": [
    {
     "name": "stdout",
     "output_type": "stream",
     "text": [
      "x1 = 2.9999999999999893, x2 = -3.9999999999999893\n"
     ]
    }
   ],
   "source": [
    "# 老师的写法\n",
    "# 特点： 分别构建出y, dy_dx, dx的公式（使用lambda） \n",
    "def solve(lr=0.01, epoches=2000):\n",
    "    y = lambda x1, x2: (x1 - 3)**2 + (x2 + 4)**2\n",
    "    dy_dx1 = lambda x1, x2: 2*(x1 - 3)\n",
    "    dy_dx2 = lambda x1, x2: 2*(x2 + 4)\n",
    "    dx1 = lambda x1, x2, lr: -lr * dy_dx1(x1, x2)\n",
    "    dx2 = lambda x1, x2, lr: -lr * dy_dx2(x1, x2)\n",
    "\n",
    "    x1, x2 = 1, 1\n",
    "    for _ in range(epoches):\n",
    "        x1 += dx1(x1, x2, lr)\n",
    "        x2 += dx2(x1, x2, lr)\n",
    "\n",
    "    return x1, x2\n",
    "\n",
    "\n",
    "if __name__ == '__main__':\n",
    "    x1, x2 = solve()\n",
    "    print(f'x1 = {x1}, x2 = {x2}')"
   ]
  },
  {
   "cell_type": "markdown",
   "metadata": {},
   "source": [
    "#### 使用梯度下降法求反三角函数\n",
    "- 求解arcsinx，在$n_1 = 0.5$和$n_2 = \\frac{\\sqrt{3}}{2}$的值<br>\n",
    "$ $$ predict: {y}=sin(x) $$ $ 这时候y是输入参数，需要随机初始化<br>\n",
    "$ $$ gt: n=0.5 \\;(这里的x就是gt) $$ $"
   ]
  },
  {
   "cell_type": "code",
   "execution_count": 28,
   "metadata": {
    "code_folding": []
   },
   "outputs": [
    {
     "data": {
      "text/plain": [
       "30.00000000000042"
      ]
     },
     "execution_count": 28,
     "metadata": {},
     "output_type": "execute_result"
    }
   ],
   "source": [
    "# 我的写法\n",
    "import math\n",
    "\n",
    "def gd(n, lr=0.01, epoch=20000):\n",
    "    x = math.pi / 4\n",
    "\n",
    "    for i in range(epoch): \n",
    "        x -= lr * (math.sin(x) - n) * math.cos(x)\n",
    "    return x\n",
    "\n",
    "\n",
    "gd(0.5)*180/math.pi"
   ]
  },
  {
   "cell_type": "code",
   "execution_count": 39,
   "metadata": {},
   "outputs": [
    {
     "name": "stdout",
     "output_type": "stream",
     "text": [
      "30.00001475556058\n"
     ]
    }
   ],
   "source": [
    "# 老师的写法\n",
    "import math\n",
    "def solve(y, n, dy_dx, lr = 0.01, epochs = 2000):\n",
    "    # solve里面放的都是 loss和参数x 相关的，外面的是 y和参数x 相关的\n",
    "    loss = lambda x: 0.5*(y(x) - n)**2\n",
    "    dloss_dx = lambda x: (y(x) - n) * dy_dx(x)\n",
    "    dx = lambda x, lr: -lr * dloss_dx(x)\n",
    "    x = 1\n",
    "    for _ in range(epochs):\n",
    "        x += dx(x, lr)\n",
    "    \n",
    "    return x\n",
    "    \n",
    "\n",
    "if __name__ == \"__main__\":\n",
    "    n = 0.5                        # 目标求x = arcsin(n = 0.5)\n",
    "    y = lambda x: math.sin(x)      # y = sin(x)\n",
    "    dy_dx = lambda x: math.cos(x)  # dy/dx\n",
    "    x = solve(y,n,dy_dx)           \n",
    "    \n",
    "    print(x*180/math.pi)"
   ]
  },
  {
   "cell_type": "markdown",
   "metadata": {},
   "source": [
    "# 函数作用域"
   ]
  },
  {
   "cell_type": "markdown",
   "metadata": {},
   "source": [
    "python 查找变量的顺序遵循LEGB规则，即遇到变量的时候：<br>\n",
    "- 1.优先从它的所属函数（local）中查找<br>\n",
    "- 2.如果找不到，就从它的父函数中找（enclosing）<br>\n",
    "- 3.如果还是找不到，就找global<br>\n",
    "- 4.最后找内置作用域(built-in)<br>\n",
    "   还是找不到的话就报错<br>\n",
    "   \n",
    "下面的函数中，a-->global->1, b-->enclosing->2, c-->local->4, d-->local->5, e-->None"
   ]
  },
  {
   "cell_type": "code",
   "execution_count": 43,
   "metadata": {},
   "outputs": [
    {
     "name": "stdout",
     "output_type": "stream",
     "text": [
      "a = 1\n",
      "b = 2\n",
      "c = 4\n",
      "d = 5\n"
     ]
    },
    {
     "ename": "NameError",
     "evalue": "name 'e' is not defined",
     "output_type": "error",
     "traceback": [
      "\u001b[1;31m---------------------------------------------------------------------------\u001b[0m",
      "\u001b[1;31mNameError\u001b[0m                                 Traceback (most recent call last)",
      "\u001b[1;32m<ipython-input-43-5fb81f4f668d>\u001b[0m in \u001b[0;36m<module>\u001b[1;34m\u001b[0m\n\u001b[0;32m     13\u001b[0m     \u001b[0mtest2\u001b[0m\u001b[1;33m(\u001b[0m\u001b[1;33m)\u001b[0m\u001b[1;33m\u001b[0m\u001b[1;33m\u001b[0m\u001b[0m\n\u001b[0;32m     14\u001b[0m \u001b[0ma\u001b[0m \u001b[1;33m=\u001b[0m \u001b[1;36m1\u001b[0m\u001b[1;33m\u001b[0m\u001b[1;33m\u001b[0m\u001b[0m\n\u001b[1;32m---> 15\u001b[1;33m \u001b[0mtest1\u001b[0m\u001b[1;33m(\u001b[0m\u001b[1;33m)\u001b[0m\u001b[1;33m\u001b[0m\u001b[1;33m\u001b[0m\u001b[0m\n\u001b[0m",
      "\u001b[1;32m<ipython-input-43-5fb81f4f668d>\u001b[0m in \u001b[0;36mtest1\u001b[1;34m()\u001b[0m\n\u001b[0;32m     11\u001b[0m         \u001b[0mprint\u001b[0m\u001b[1;33m(\u001b[0m\u001b[1;34mf\"e = {e}\"\u001b[0m\u001b[1;33m)\u001b[0m\u001b[1;33m\u001b[0m\u001b[1;33m\u001b[0m\u001b[0m\n\u001b[0;32m     12\u001b[0m \u001b[1;33m\u001b[0m\u001b[0m\n\u001b[1;32m---> 13\u001b[1;33m     \u001b[0mtest2\u001b[0m\u001b[1;33m(\u001b[0m\u001b[1;33m)\u001b[0m\u001b[1;33m\u001b[0m\u001b[1;33m\u001b[0m\u001b[0m\n\u001b[0m\u001b[0;32m     14\u001b[0m \u001b[0ma\u001b[0m \u001b[1;33m=\u001b[0m \u001b[1;36m1\u001b[0m\u001b[1;33m\u001b[0m\u001b[1;33m\u001b[0m\u001b[0m\n\u001b[0;32m     15\u001b[0m \u001b[0mtest1\u001b[0m\u001b[1;33m(\u001b[0m\u001b[1;33m)\u001b[0m\u001b[1;33m\u001b[0m\u001b[1;33m\u001b[0m\u001b[0m\n",
      "\u001b[1;32m<ipython-input-43-5fb81f4f668d>\u001b[0m in \u001b[0;36mtest2\u001b[1;34m()\u001b[0m\n\u001b[0;32m      9\u001b[0m         \u001b[0mprint\u001b[0m\u001b[1;33m(\u001b[0m\u001b[1;34mf\"c = {c}\"\u001b[0m\u001b[1;33m)\u001b[0m\u001b[1;33m\u001b[0m\u001b[1;33m\u001b[0m\u001b[0m\n\u001b[0;32m     10\u001b[0m         \u001b[0mprint\u001b[0m\u001b[1;33m(\u001b[0m\u001b[1;34mf\"d = {d}\"\u001b[0m\u001b[1;33m)\u001b[0m\u001b[1;33m\u001b[0m\u001b[1;33m\u001b[0m\u001b[0m\n\u001b[1;32m---> 11\u001b[1;33m         \u001b[0mprint\u001b[0m\u001b[1;33m(\u001b[0m\u001b[1;34mf\"e = {e}\"\u001b[0m\u001b[1;33m)\u001b[0m\u001b[1;33m\u001b[0m\u001b[1;33m\u001b[0m\u001b[0m\n\u001b[0m\u001b[0;32m     12\u001b[0m \u001b[1;33m\u001b[0m\u001b[0m\n\u001b[0;32m     13\u001b[0m     \u001b[0mtest2\u001b[0m\u001b[1;33m(\u001b[0m\u001b[1;33m)\u001b[0m\u001b[1;33m\u001b[0m\u001b[1;33m\u001b[0m\u001b[0m\n",
      "\u001b[1;31mNameError\u001b[0m: name 'e' is not defined"
     ]
    }
   ],
   "source": [
    "def test1():\n",
    "    b = 2\n",
    "    c = 3\n",
    "    def test2():\n",
    "        c = 4\n",
    "        d = 5\n",
    "        print(f\"a = {a}\")\n",
    "        print(f\"b = {b}\")\n",
    "        print(f\"c = {c}\")\n",
    "        print(f\"d = {d}\")\n",
    "        print(f\"e = {e}\")\n",
    "    \n",
    "    test2()\n",
    "a = 1\n",
    "test1()"
   ]
  }
 ],
 "metadata": {
  "kernelspec": {
   "display_name": "Python 3",
   "language": "python",
   "name": "python3"
  },
  "language_info": {
   "codemirror_mode": {
    "name": "ipython",
    "version": 3
   },
   "file_extension": ".py",
   "mimetype": "text/x-python",
   "name": "python",
   "nbconvert_exporter": "python",
   "pygments_lexer": "ipython3",
   "version": "3.8.5"
  },
  "toc": {
   "base_numbering": 1,
   "nav_menu": {},
   "number_sections": true,
   "sideBar": true,
   "skip_h1_title": false,
   "title_cell": "Table of Contents",
   "title_sidebar": "Contents",
   "toc_cell": false,
   "toc_position": {},
   "toc_section_display": true,
   "toc_window_display": false
  },
  "toc-autonumbering": true,
  "varInspector": {
   "cols": {
    "lenName": 16,
    "lenType": 16,
    "lenVar": 40
   },
   "kernels_config": {
    "python": {
     "delete_cmd_postfix": "",
     "delete_cmd_prefix": "del ",
     "library": "var_list.py",
     "varRefreshCmd": "print(var_dic_list())"
    },
    "r": {
     "delete_cmd_postfix": ") ",
     "delete_cmd_prefix": "rm(",
     "library": "var_list.r",
     "varRefreshCmd": "cat(var_dic_list()) "
    }
   },
   "types_to_exclude": [
    "module",
    "function",
    "builtin_function_or_method",
    "instance",
    "_Feature"
   ],
   "window_display": false
  }
 },
 "nbformat": 4,
 "nbformat_minor": 4
}
