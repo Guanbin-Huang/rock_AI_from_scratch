{
 "cells": [
  {
   "cell_type": "markdown",
   "metadata": {},
   "source": [
    "# 输出"
   ]
  },
  {
   "cell_type": "code",
   "execution_count": 2,
   "metadata": {},
   "outputs": [
    {
     "name": "stdout",
     "output_type": "stream",
     "text": [
      "hello \\n world!\n"
     ]
    }
   ],
   "source": [
    "print(r\"hello \\n world!\") # 用r' '表示' '内部的字符串默认不转义"
   ]
  },
  {
   "cell_type": "markdown",
   "metadata": {},
   "source": [
    "## 格式化输出"
   ]
  },
  {
   "cell_type": "code",
   "execution_count": 7,
   "metadata": {},
   "outputs": [
    {
     "name": "stdout",
     "output_type": "stream",
     "text": [
      "a = 123\n",
      "a =    123\n",
      "a = 000123\n",
      "b = 1.230000\n",
      "b = 1.23\n",
      "b = 1.2300000000\n",
      "d = 123\n"
     ]
    }
   ],
   "source": [
    "a = 123\n",
    "b = 1.23\n",
    "d = \"123\"\n",
    "print(\"a = %d\"%a)  # d -- decimal 十进制\n",
    "print(\"a = %6d\"%a) # 十进制，输出占六个位置\n",
    "print(\"a = %06d\"%a)# 输出占六个位置，用0来占\n",
    "print(\"b = %f\"%b)  # f -- float\n",
    "print(\"b = %.2f\"%b) # 保留两位小数\n",
    "print(\"b = %.10f\"%b)# 保留十位小数\n",
    "print(\"d = %s\"%d)  # s -- string 输出为字符串"
   ]
  },
  {
   "cell_type": "markdown",
   "metadata": {},
   "source": [
    "# 数字类型"
   ]
  },
  {
   "cell_type": "code",
   "execution_count": 12,
   "metadata": {},
   "outputs": [
    {
     "data": {
      "text/plain": [
       "(400, 25)"
      ]
     },
     "execution_count": 12,
     "metadata": {},
     "output_type": "execute_result"
    }
   ],
   "source": [
    "num1 = 100\n",
    "num2 = 2\n",
    "\n",
    "num10 = num1 << num2 # num1 * 2^num2   十进制角度： 100*2^2 = 400  二进制角度：左移右边补零，右移直接去掉\n",
    "num11 = num1 >> num2 # num1 / 2^num2   100/ (2^2) = 25\n",
    "num10,num11"
   ]
  },
  {
   "cell_type": "code",
   "execution_count": 44,
   "metadata": {},
   "outputs": [
    {
     "name": "stdout",
     "output_type": "stream",
     "text": [
      "num1:00001100\n",
      "num2:00010101\n",
      "num3:00000100\n"
     ]
    }
   ],
   "source": [
    "num1 = 12\n",
    "num2 = 21\n",
    "num3 = num1 & num2\n",
    "print(\"num1:%s\"%bin(num1)[2:].zfill(8)) # 字符串补0  str.zfill()\n",
    "print(\"num2:%s\"%bin(num2)[2:].zfill(8))\n",
    "print(\"num3:%s\"%bin(num3)[2:].zfill(8)) # 只有全1才是1"
   ]
  },
  {
   "cell_type": "code",
   "execution_count": 46,
   "metadata": {},
   "outputs": [
    {
     "name": "stdout",
     "output_type": "stream",
     "text": [
      "num1:00001100\n",
      "num2:00010101\n",
      "num3:00011101\n"
     ]
    }
   ],
   "source": [
    "num3 = num1 | num2\n",
    "print(\"num1:%s\"%bin(num1)[2:].zfill(8))\n",
    "print(\"num2:%s\"%bin(num2)[2:].zfill(8))\n",
    "print(\"num3:%s\"%bin(num3)[2:].zfill(8)) # 有1就为1"
   ]
  },
  {
   "cell_type": "markdown",
   "metadata": {},
   "source": [
    "# 进制转换"
   ]
  },
  {
   "cell_type": "code",
   "execution_count": 48,
   "metadata": {},
   "outputs": [
    {
     "data": {
      "text/plain": [
       "(8, 8, 8)"
      ]
     },
     "execution_count": 48,
     "metadata": {},
     "output_type": "execute_result"
    }
   ],
   "source": [
    "oct(num1), oct(num2)\n",
    "hex(num1), hex(num2) # oct 八进制   hex十六进制\n",
    "int(0b1000), int(0x8), int(0o10)"
   ]
  },
  {
   "cell_type": "markdown",
   "metadata": {},
   "source": [
    "## 利用进制实现四舍五入"
   ]
  },
  {
   "cell_type": "code",
   "execution_count": 53,
   "metadata": {},
   "outputs": [
    {
     "data": {
      "text/plain": [
       "12"
      ]
     },
     "execution_count": 53,
     "metadata": {},
     "output_type": "execute_result"
    }
   ],
   "source": [
    "num1 = 12.4\n",
    "int(num1+0.5)"
   ]
  },
  {
   "cell_type": "markdown",
   "metadata": {},
   "source": [
    "# string "
   ]
  },
  {
   "cell_type": "code",
   "execution_count": 56,
   "metadata": {},
   "outputs": [
    {
     "data": {
      "text/plain": [
       "('135', '123456789asdfsad', '123456789123456789', '987654321')"
      ]
     },
     "execution_count": 56,
     "metadata": {},
     "output_type": "execute_result"
    }
   ],
   "source": [
    "str1 = \"123456789\"\n",
    "str2 = \"asdfsad\"\n",
    "# 左闭右开\n",
    "str5 = str1[0:5:2]  # begin:0, end:5-1, stride=2\n",
    "str6 = str1 + str2 # 字符串join\n",
    "str7 = str1 * 2 # 重复\n",
    "str8 = str1[::-1] # 逆序\n",
    "\n",
    "str5, str6, str7, str8"
   ]
  },
  {
   "cell_type": "code",
   "execution_count": 57,
   "metadata": {},
   "outputs": [
    {
     "data": {
      "text/plain": [
       "'a,b,c,d,e,f,g'"
      ]
     },
     "execution_count": 57,
     "metadata": {},
     "output_type": "execute_result"
    }
   ],
   "source": [
    "char = \",\" \n",
    "info = \"abcdefg\"\n",
    "info = char.join(info) # 用char来连接info\n",
    "info"
   ]
  },
  {
   "cell_type": "code",
   "execution_count": 59,
   "metadata": {},
   "outputs": [
    {
     "data": {
      "text/plain": [
       "'abcdefg'"
      ]
     },
     "execution_count": 59,
     "metadata": {},
     "output_type": "execute_result"
    }
   ],
   "source": [
    "strs = \"abcdEFG\"\n",
    "strs = strs.lower()\n",
    "strs # 将所有字母变成小写"
   ]
  },
  {
   "cell_type": "markdown",
   "metadata": {},
   "source": [
    "# list"
   ]
  },
  {
   "cell_type": "code",
   "execution_count": 64,
   "metadata": {},
   "outputs": [
    {
     "name": "stdout",
     "output_type": "stream",
     "text": [
      "new_list3=['b', 1],       \n",
      "new_list4=3, \n",
      "new_list5=[3, 2, 1, 'c', 'b', 'a']\n"
     ]
    }
   ],
   "source": [
    "str_list = [\"a\", \"b\", \"c\", \"1\", \"2\", \"3\"]\n",
    "num_list = [1, 2, 3, 4, 5, 6]\n",
    "mix_list = [\"a\", \"b\", \"c\", 1, 2, 3]\n",
    "\n",
    "\n",
    "# 访问元素\n",
    "new_list3 = mix_list[1:5:2]\n",
    "new_list4 = mix_list[-1]\n",
    "new_list5 = mix_list[::-1]\n",
    "print(f\"new_list3={new_list3}, \\\n",
    "      \\nnew_list4={new_list4}, \\nnew_list5={new_list5}\")"
   ]
  },
  {
   "cell_type": "code",
   "execution_count": 67,
   "metadata": {},
   "outputs": [
    {
     "name": "stdout",
     "output_type": "stream",
     "text": [
      "change_elemet = ['martin', 'b', 'c', 1, 2, 3]\n",
      "mix_list = ['a', 'b', 'c', 1, 2, 3]\n"
     ]
    }
   ],
   "source": [
    "# 更改元素\n",
    "change_element = mix_list.copy()\n",
    "change_element[0] = \"martin\"\n",
    "print(f\"change_elemet = {change_element}\")\n",
    "print(f\"mix_list = {mix_list}\") # 因为copy了，所以mix_list不会被更改"
   ]
  },
  {
   "cell_type": "code",
   "execution_count": 69,
   "metadata": {},
   "outputs": [
    {
     "data": {
      "text/plain": [
       "'c'"
      ]
     },
     "execution_count": 69,
     "metadata": {},
     "output_type": "execute_result"
    }
   ],
   "source": [
    "mix_list.pop(2)"
   ]
  },
  {
   "cell_type": "code",
   "execution_count": 72,
   "metadata": {},
   "outputs": [
    {
     "data": {
      "text/plain": [
       "['a', 'b', 1, 2, 3]"
      ]
     },
     "execution_count": 72,
     "metadata": {},
     "output_type": "execute_result"
    }
   ],
   "source": [
    "mix_list # c被pop后，mix_list就没有c"
   ]
  },
  {
   "cell_type": "code",
   "execution_count": 76,
   "metadata": {},
   "outputs": [],
   "source": [
    "mix_list.remove(2) # remove 掉 list 里的2\n",
    "\"\"\"\n",
    "Signature: mix_list.remove(value, /)\n",
    "Docstring:\n",
    "Remove first occurrence of value.\n",
    "\"\"\""
   ]
  },
  {
   "cell_type": "code",
   "execution_count": 85,
   "metadata": {},
   "outputs": [
    {
     "data": {
      "text/plain": [
       "[9, 8, 7, 6, 5, 4, 3, 2, 1]"
      ]
     },
     "execution_count": 85,
     "metadata": {},
     "output_type": "execute_result"
    }
   ],
   "source": [
    "# list 反转\n",
    "# 两种方法 reverse 和 [::,-1]\n",
    "new_list = [1,2,3,4,5,6,7,8,9]\n",
    "new_list.reverse() # inplace 操作\n",
    "new_list\n"
   ]
  },
  {
   "cell_type": "markdown",
   "metadata": {},
   "source": [
    "# random随机数"
   ]
  },
  {
   "cell_type": "code",
   "execution_count": 89,
   "metadata": {},
   "outputs": [
    {
     "name": "stdout",
     "output_type": "stream",
     "text": [
      "10\n",
      "0.48228815619500365\n",
      "2.4643240028980435\n"
     ]
    }
   ],
   "source": [
    "import random\n",
    "dir(random) #返回参数的属性、方法列表\n",
    "print(random.randint(1,10))        # 产生 1 到 10 的一个整数型随机数  \n",
    "print(random.random())             # 产生 0 到 1 之间的随机浮点数\n",
    "print(random.uniform(1.1,5.4))     # 产生  1.1 到 5.4 之间的随机浮点数，区间可以不是整数"
   ]
  },
  {
   "cell_type": "code",
   "execution_count": 90,
   "metadata": {},
   "outputs": [
    {
     "name": "stdout",
     "output_type": "stream",
     "text": [
      "69\n",
      "['6', '2', '3', '5', '4']\n"
     ]
    }
   ],
   "source": [
    "print(random.randrange(1,100,2))   # 生成从1到100的间隔为2的随机整数\n",
    "print(random.sample(\"123456\", 5))  # 从当前的字符中选取5个字符"
   ]
  },
  {
   "cell_type": "markdown",
   "metadata": {},
   "source": [
    "# 数据样本预处理"
   ]
  },
  {
   "cell_type": "code",
   "execution_count": 92,
   "metadata": {},
   "outputs": [
    {
     "data": {
      "text/plain": [
       "['./home/0.0002.jpg',\n",
       " './home/0.0003.jpg',\n",
       " './home/0.0004.jpg',\n",
       " './home/0.0001.jpg',\n",
       " './home/0.0005.jpg']"
      ]
     },
     "execution_count": 92,
     "metadata": {},
     "output_type": "execute_result"
    }
   ],
   "source": [
    "temp_list = [\"./home/0.0001.jpg\",\"./home/0.0002.jpg\",\"./home/0.0003.jpg\",\"./home/0.0004.jpg\",\"./home/0.0005.jpg\"]\n",
    "# 打乱图片\n",
    "random.shuffle(temp_list)\n",
    "\n",
    "temp_list"
   ]
  },
  {
   "cell_type": "code",
   "execution_count": 100,
   "metadata": {},
   "outputs": [
    {
     "data": {
      "text/plain": [
       "'B9C1e'"
      ]
     },
     "execution_count": 100,
     "metadata": {},
     "output_type": "execute_result"
    }
   ],
   "source": [
    "import random\n",
    "info_list = [\"1\",\"2\",\"3\",\"4\",\"5\",\"6\",\"7\",\"8\",\"9\",\"0\",\"a\",\"b\",\"c\",\"d\",\"e\",\"f\",\"g\",\"h\",\"i\",\"j\",\"k\",\"l\",\"m\",\"n\"\n",
    "             ,\"o\",\"p\",\"q\",\"r\",\"s\",\"t\",\"u\",\"v\",\"w\",\"x\",\"y\",\"z\",\"A\",\"B\",\"C\",\"D\",\"E\",\"F\",\"G\",\"H\",\"I\",\"G\",\"K\",\"L\"\n",
    "             ,\"M\",\"N\",\"O\",\"P\",\"Q\",\"R\",\"S\",\"T\",\"U\",\"V\",\"W\",\"X\",\"Y\",\"Z\"]\n",
    "#连接起list\n",
    "info = \"\".join(info_list)\n",
    "new_info = \"\".join(random.sample(info,5)) # 从info_list里选出5个形成list，再join起来\n",
    "new_info"
   ]
  },
  {
   "cell_type": "markdown",
   "metadata": {},
   "source": [
    "# set"
   ]
  },
  {
   "cell_type": "code",
   "execution_count": 101,
   "metadata": {},
   "outputs": [
    {
     "name": "stdout",
     "output_type": "stream",
     "text": [
      "['coffee', 'tea', 'juice', 'coffee', 'juice', 'tea', 'coffee']\n",
      "{'tea', 'juice', 'coffee'}\n"
     ]
    }
   ],
   "source": [
    "classes = [\"coffee\", \"tea\", \"juice\", \"coffee\", \"juice\", \"tea\", \"coffee\"]\n",
    "print(classes)\n",
    "new_classes = set(classes)\n",
    "print(new_classes)"
   ]
  },
  {
   "cell_type": "code",
   "execution_count": 102,
   "metadata": {},
   "outputs": [
    {
     "data": {
      "text/plain": [
       "['coffee']"
      ]
     },
     "execution_count": 102,
     "metadata": {},
     "output_type": "execute_result"
    }
   ],
   "source": [
    "classes2 = [\"tea\", \"juice\"]\n",
    "classes3 = list(set(classes)-set(classes2)) # 获得classes1中 classes2没有的\n",
    "classes3"
   ]
  },
  {
   "cell_type": "code",
   "execution_count": 105,
   "metadata": {},
   "outputs": [],
   "source": [
    "# 对字符串用set就是打散 无序的\n",
    "set(\"12345\")\n",
    "a = set(\"我爱中国\")\n",
    "b = set(\"我是中国人\")"
   ]
  },
  {
   "cell_type": "code",
   "execution_count": 107,
   "metadata": {},
   "outputs": [
    {
     "data": {
      "text/plain": [
       "({'中', '国', '我'}, {'中', '人', '国', '我', '是', '爱'})"
      ]
     },
     "execution_count": 107,
     "metadata": {},
     "output_type": "execute_result"
    }
   ],
   "source": [
    "a & b, a|b"
   ]
  },
  {
   "cell_type": "markdown",
   "metadata": {},
   "source": [
    "# 字典"
   ]
  },
  {
   "cell_type": "code",
   "execution_count": 108,
   "metadata": {},
   "outputs": [],
   "source": [
    "dict_str = {\"name1\":\"martin1\", \"name2\":\"martin2\", \"name3\":\"name3\"}\n",
    "dict_num = {1:2, 3:4, 5:6, 7:8}\n",
    "dict_mix = {\"name\":\"martin\", \"age\":12, \"sex\":\"male\"}"
   ]
  },
  {
   "cell_type": "code",
   "execution_count": 119,
   "metadata": {},
   "outputs": [
    {
     "name": "stdout",
     "output_type": "stream",
     "text": [
      "James\n",
      "2\n",
      "12\n",
      "!\n",
      "{'name2': 'James', 'name3': 'name3'}\n",
      "{1: 2, 3: 4, 5: 6, 7: 8, 9: 10, 11: 12}\n",
      "{1: 2, 3: 4, 5: 6, 7: 8, 9: 10, 11: 12}\n"
     ]
    },
    {
     "data": {
      "text/plain": [
       "({'a': 1, 'b': 2}, {'b': 10, 'c': 3})"
      ]
     },
     "execution_count": 119,
     "metadata": {},
     "output_type": "execute_result"
    }
   ],
   "source": [
    "# 访问字典元素\n",
    "print(dict_str[\"name2\"])\n",
    "print(dict_num[1])\n",
    "print(dict_mix[\"age\"])\n",
    "print(dict_str.get(\"name4\",\"!\")) # 这种获取方法的好处在于如果没有这个key会自动补乘自己的设定值\n",
    "\n",
    "# 修改字典元素\n",
    "dict_str[\"name2\"] = \"James\"\n",
    "print(dict_str)\n",
    "\n",
    "# 增加元素\n",
    "# - 方式一\n",
    "dict_num[9] = 10\n",
    "print(dict_num)\n",
    "# - 方式二\n",
    "dict_num.update({11:12})\n",
    "print(dict_num)\n",
    "\n",
    "# 根据a字典去更新b字典,\n",
    "a_dict = {\"a\":1,\"b\":2}\n",
    "b_dict = {\"b\":10,\"c\":3}\n",
    "a_dict,b_dict"
   ]
  },
  {
   "cell_type": "code",
   "execution_count": 120,
   "metadata": {},
   "outputs": [
    {
     "data": {
      "text/plain": [
       "{'a': 1, 'b': 10, 'c': 3}"
      ]
     },
     "execution_count": 120,
     "metadata": {},
     "output_type": "execute_result"
    }
   ],
   "source": [
    "a_dict.update(b_dict) # 把b中有a的部分全部更新\n",
    "a_dict"
   ]
  },
  {
   "cell_type": "code",
   "execution_count": 122,
   "metadata": {},
   "outputs": [
    {
     "name": "stdout",
     "output_type": "stream",
     "text": [
      "<class 'tuple'> <class 'int'> <class 'tuple'>\n"
     ]
    }
   ],
   "source": [
    "test1 = 1, 2, 3\n",
    "test2 = (1)\n",
    "test3 = (1,)\n",
    "print(type(test1),type(test2),type(test3))"
   ]
  }
 ],
 "metadata": {
  "kernelspec": {
   "display_name": "Python 3",
   "language": "python",
   "name": "python3"
  },
  "language_info": {
   "codemirror_mode": {
    "name": "ipython",
    "version": 3
   },
   "file_extension": ".py",
   "mimetype": "text/x-python",
   "name": "python",
   "nbconvert_exporter": "python",
   "pygments_lexer": "ipython3",
   "version": "3.8.5"
  },
  "toc": {
   "base_numbering": 1,
   "nav_menu": {},
   "number_sections": true,
   "sideBar": true,
   "skip_h1_title": false,
   "title_cell": "Table of Contents",
   "title_sidebar": "Contents",
   "toc_cell": false,
   "toc_position": {},
   "toc_section_display": true,
   "toc_window_display": true
  },
  "varInspector": {
   "cols": {
    "lenName": 16,
    "lenType": 16,
    "lenVar": 40
   },
   "kernels_config": {
    "python": {
     "delete_cmd_postfix": "",
     "delete_cmd_prefix": "del ",
     "library": "var_list.py",
     "varRefreshCmd": "print(var_dic_list())"
    },
    "r": {
     "delete_cmd_postfix": ") ",
     "delete_cmd_prefix": "rm(",
     "library": "var_list.r",
     "varRefreshCmd": "cat(var_dic_list()) "
    }
   },
   "types_to_exclude": [
    "module",
    "function",
    "builtin_function_or_method",
    "instance",
    "_Feature"
   ],
   "window_display": false
  }
 },
 "nbformat": 4,
 "nbformat_minor": 4
}
