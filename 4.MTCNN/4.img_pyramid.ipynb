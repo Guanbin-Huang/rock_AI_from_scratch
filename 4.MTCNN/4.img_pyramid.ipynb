{
 "cells": [
  {
   "cell_type": "code",
   "execution_count": 5,
   "source": [
    "import numpy as np\n",
    "import struct\n",
    "import random\n",
    "import matplotlib.pyplot as plt\n",
    "import pandas as pd\n",
    "import math\n",
    "import cv2\n",
    "import mtcnn.caffe_pb2 as pb\n",
    "import math"
   ],
   "outputs": [],
   "metadata": {}
  },
  {
   "cell_type": "code",
   "execution_count": 6,
   "source": [
    "def pyrdown(img,min_face=12,max_face=0,factor=0.709):\n",
    "    img_h, img_w = img.shape[:2]\n",
    "    minl = min(img_w, img_h) # 原始图的短边\n",
    "    scale = 1.0\n",
    "    scales_select = []\n",
    "\n",
    "    lower_limit_scale = 12 / max_face if max_face != 0 else 0.01 # 图像大小的下限，其对应的scale是多少 # 注意 12是变换之后，maxface或者minface是变换之前\n",
    "    upper_limit_scale = 12 / min_face # 图像大小的上限，其对应的scale 是多少\n",
    "    \n",
    "    minl *= upper_limit_scale # minl 就从upper limit scale 这个尺度开始了，避免了在过小脸尺度上的搜索\n",
    "    while minl >= 12.0 and upper_limit_scale * scale >= lower_limit_scale: # 最小边最终一定要大于12，此时对应的尺度也要高于下限（不能再让图片更小了）。之所以既要考虑边，也要考虑边所对应的尺度是因为 minl 是由上一个minl * scale 得来的 \n",
    "        scales_select.append(scale * upper_limit_scale)\n",
    "        scale *= factor\n",
    "        minl *= factor\n",
    "    \n",
    "    if len(scales_select) == 0:\n",
    "        return []\n",
    "\n",
    "    pyrs = []\n",
    "    for scale in scales_select:\n",
    "        pyrs.append([cv2.resize(img, (0, 0), fx=scale, fy=scale), scale])\n",
    "        \n",
    "    # for p in pyrs:\n",
    "    #     print(p[0].shape)\n",
    "    return pyrs\n"
   ],
   "outputs": [],
   "metadata": {}
  },
  {
   "cell_type": "code",
   "execution_count": 10,
   "source": [
    "image = cv2.imread(\"./imgs/faces.jpg\")\n",
    "img_and_scale_pairs = pyrdown(image)\n",
    "for img, scale in img_and_scale_pairs:\n",
    "    print(img.shape, scale)\n"
   ],
   "outputs": [
    {
     "output_type": "stream",
     "name": "stdout",
     "text": [
      "(499, 500, 3) 1.0\n",
      "(354, 354, 3) 0.709\n",
      "(251, 251, 3) 0.5026809999999999\n",
      "(178, 178, 3) 0.3564008289999999\n",
      "(126, 126, 3) 0.25268818776099994\n",
      "(89, 90, 3) 0.17915592512254894\n",
      "(63, 64, 3) 0.1270215509118872\n",
      "(45, 45, 3) 0.09005827959652801\n",
      "(32, 32, 3) 0.06385132023393836\n",
      "(23, 23, 3) 0.045270586045862295\n",
      "(16, 16, 3) 0.03209684550651636\n"
     ]
    }
   ],
   "metadata": {}
  }
 ],
 "metadata": {
  "orig_nbformat": 4,
  "language_info": {
   "name": "python",
   "version": "3.8.8",
   "mimetype": "text/x-python",
   "codemirror_mode": {
    "name": "ipython",
    "version": 3
   },
   "pygments_lexer": "ipython3",
   "nbconvert_exporter": "python",
   "file_extension": ".py"
  },
  "kernelspec": {
   "name": "python3",
   "display_name": "Python 3.8.8 64-bit ('base': conda)"
  },
  "interpreter": {
   "hash": "7383003b210fdacca9bf7683d9d1d561f4a72c77adad40daede406a89507eb7d"
  }
 },
 "nbformat": 4,
 "nbformat_minor": 2
}