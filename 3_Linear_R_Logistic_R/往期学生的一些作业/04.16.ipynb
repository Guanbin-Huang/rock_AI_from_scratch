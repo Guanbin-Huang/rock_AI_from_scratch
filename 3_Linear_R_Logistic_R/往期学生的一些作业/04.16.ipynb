{
 "cells": [
  {
   "cell_type": "code",
   "execution_count": 1,
   "id": "fe62de80",
   "metadata": {},
   "outputs": [
    {
     "data": {
      "text/plain": [
       "[0, 1, 2, 3, 4, 5, 6, 7, 8, 9]"
      ]
     },
     "execution_count": 1,
     "metadata": {},
     "output_type": "execute_result"
    }
   ],
   "source": [
    "def selectionSort(arr):\n",
    "    for i in range(len(arr)):\n",
    "        min_index = i  # default setting: the current i is the min\n",
    "        for j in range(i+1, len(arr)):\n",
    "            if arr[min_index] > arr[j]:  # is it the real min. We need to compare it to the ones to the right of it.\n",
    "                min_index = j            # upadte the min_index\n",
    "        arr[i], arr[min_index] = arr[min_index], arr[i]  # such that the real min so far is moved to the frontier.\n",
    "    return arr\n",
    "\n",
    "arr = [8, 9, 1, 7, 2, 3, 5, 4, 6, 0]\n",
    "arr = selectionSort(arr)\n",
    "arr"
   ]
  },
  {
   "cell_type": "code",
   "execution_count": null,
   "id": "ce866ecc",
   "metadata": {},
   "outputs": [],
   "source": []
  }
 ],
 "metadata": {
  "kernelspec": {
   "display_name": "Python 3",
   "language": "python",
   "name": "python3"
  },
  "language_info": {
   "codemirror_mode": {
    "name": "ipython",
    "version": 3
   },
   "file_extension": ".py",
   "mimetype": "text/x-python",
   "name": "python",
   "nbconvert_exporter": "python",
   "pygments_lexer": "ipython3",
   "version": "3.8.8"
  }
 },
 "nbformat": 4,
 "nbformat_minor": 5
}
