{
 "cells": [
  {
   "cell_type": "markdown",
   "metadata": {},
   "source": [
    "# 作业题目："
   ]
  },
  {
   "cell_type": "markdown",
   "metadata": {},
   "source": [
    "4月7日 作业：\n",
    "1. 自己手敲今天老师讲的代码\n",
    "2. 实现拼音读数问题\n",
    "3. 实现兔子问题\n",
    "\n",
    "发送到邮箱：1515304060@qq.com\n",
    "文件命名格式：姓名.ipynb（如： 李四.ipynb）\n",
    "邮箱的主题格式：姓名（如：张三）\n",
    "（有任何问题，也可以在邮件正文中备注）\n",
    "\n",
    "\n",
    "1. 拼音读数问题：\n",
    "读入一个正整数 n，计算其各位数字之和，用汉语拼音写出和的每一位数字。\n",
    "输入格式：\n",
    "每个测试输入包含 1 个测试用例，即给出自然数 n 的值。这里保证 n 小于 10^100\n",
    "输出格式：\n",
    "在一行内输出 n 的各位数字之和的每一位，拼音数字间有 1 空格，但一行中最后一个拼音数字后没有空格。\n",
    "输入样例：\n",
    "1234567890987654321123456789\n",
    "输出样例：\n",
    "yi san wu\n",
    "\n",
    "\n",
    "2. 兔子问题：\n",
    "有一只兔子，从出生后第三个月起每个月都生一只兔子，小兔子长到第三个月后每个月又生一只兔子，假如兔子都能存活，问每个月的兔子总数是多少？"
   ]
  },
  {
   "cell_type": "markdown",
   "metadata": {},
   "source": [
    "# 拼音读数问题"
   ]
  },
  {
   "cell_type": "code",
   "execution_count": 13,
   "metadata": {},
   "outputs": [
    {
     "name": "stdout",
     "output_type": "stream",
     "text": [
      "The sum of its digits is 135. \n",
      "The pinyin version of the 135 is ['yi', 'san', 'wu']\n"
     ]
    }
   ],
   "source": [
    "mapping_dict = {\"1\":\"yi\",\"2\":\"er\",\"3\":\"san\",\"4\":\"si\",\"5\":\"wu\",\"6\":\"liu\",\"7\":\"qi\",\"8\":\"ba\",\"0\":\"ling\"}\n",
    "\n",
    "def func(num,mapping_dict):\n",
    "    digits = [int(digit) for digit in str(num)]\n",
    "    digits_sum = sum(digits)\n",
    "    \n",
    "    res = [mapping_dict[str(i)] for i in str(digits_sum)]\n",
    "    print(f\"The sum of its digits is {digits_sum}. \\nThe pinyin version of the {digits_sum} is {res}\")\n",
    "    \n",
    "num = 1234567890987654321123456789\n",
    "\n",
    "func(num,mapping_dict)"
   ]
  },
  {
   "cell_type": "markdown",
   "metadata": {},
   "source": [
    "# 兔子问题"
   ]
  },
  {
   "cell_type": "markdown",
   "metadata": {},
   "source": [
    "Reference: 有一对兔子从出生后第三个月起，每个月都生一对兔子，小兔子长到第三个月又生一对兔子，每个月兔子的总数是？ - 杨指北的回答 - 知乎\n",
    "https://www.zhihu.com/question/38045513/answer/1423830712"
   ]
  },
  {
   "cell_type": "code",
   "execution_count": 50,
   "metadata": {},
   "outputs": [],
   "source": [
    "class Rabbit:\n",
    "    '''\n",
    "    基本假设：一只兔子自己能够无性繁殖,一开始只有一只兔子\n",
    "    '''\n",
    "    def __init__(self):\n",
    "        self.age = 0\n",
    "    def update(self):\n",
    "        self.age+=1"
   ]
  },
  {
   "cell_type": "code",
   "execution_count": 51,
   "metadata": {},
   "outputs": [
    {
     "name": "stdout",
     "output_type": "stream",
     "text": [
      "1 1 2 3 5 8 13 21 34 55 89 144 233 377 610 987 1597 2584 4181 "
     ]
    }
   ],
   "source": [
    "m = 3 # m 指的是 兔子出生多少个月后才可以生孩子\n",
    "\n",
    "def time_simulator(n):                 # n 是需要模拟的月数\n",
    "    total = [Rabbit()]                 # total 存储当前所有兔子，初始时只有一只月龄为 0 的兔子\n",
    "    \n",
    "    for i in range(1, n+1):            # 从第一个月开始模拟，数月份\n",
    "        for rb in total:               # 遍历现有的所有兔子\n",
    "            rb.update()                # 让现有的所有兔子对月龄加1\n",
    "            if rb.age >= m:            # 如果该对兔子月龄大于等于3，将生下一对新兔子\n",
    "                total.append(Rabbit()) # 将新出生的兔子加入现有的大家庭\n",
    "    return len(total)                  # 返回兔子的总个数\n",
    "\n",
    "for i in range(1,20):                  # 从第1个月到第20个月\n",
    "    print(time_simulator(i), end=\" \")"
   ]
  }
 ],
 "metadata": {
  "kernelspec": {
   "display_name": "Python 3",
   "language": "python",
   "name": "python3"
  },
  "language_info": {
   "codemirror_mode": {
    "name": "ipython",
    "version": 3
   },
   "file_extension": ".py",
   "mimetype": "text/x-python",
   "name": "python",
   "nbconvert_exporter": "python",
   "pygments_lexer": "ipython3",
   "version": "3.8.8"
  },
  "toc": {
   "base_numbering": 1,
   "nav_menu": {},
   "number_sections": true,
   "sideBar": true,
   "skip_h1_title": false,
   "title_cell": "Table of Contents",
   "title_sidebar": "Contents",
   "toc_cell": false,
   "toc_position": {},
   "toc_section_display": true,
   "toc_window_display": false
  },
  "varInspector": {
   "cols": {
    "lenName": 16,
    "lenType": 16,
    "lenVar": 40
   },
   "kernels_config": {
    "python": {
     "delete_cmd_postfix": "",
     "delete_cmd_prefix": "del ",
     "library": "var_list.py",
     "varRefreshCmd": "print(var_dic_list())"
    },
    "r": {
     "delete_cmd_postfix": ") ",
     "delete_cmd_prefix": "rm(",
     "library": "var_list.r",
     "varRefreshCmd": "cat(var_dic_list()) "
    }
   },
   "types_to_exclude": [
    "module",
    "function",
    "builtin_function_or_method",
    "instance",
    "_Feature"
   ],
   "window_display": false
  }
 },
 "nbformat": 4,
 "nbformat_minor": 4
}
