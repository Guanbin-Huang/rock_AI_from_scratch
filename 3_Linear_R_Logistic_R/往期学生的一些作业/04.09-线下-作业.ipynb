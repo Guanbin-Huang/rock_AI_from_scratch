{
 "cells": [
  {
   "cell_type": "markdown",
   "metadata": {},
   "source": [
    "# 作业"
   ]
  },
  {
   "cell_type": "markdown",
   "metadata": {},
   "source": [
    "## 作业一：冒泡排序\n",
    "- 自行了解什么是冒泡排序\n",
    "- 给定数组[0, 2, 1, 3, 5, 1, 1],使用冒泡排序得到从小到大的结果"
   ]
  },
  {
   "cell_type": "code",
   "execution_count": 56,
   "metadata": {},
   "outputs": [
    {
     "data": {
      "text/plain": [
       "[0, 1, 1, 1, 2, 3, 5]"
      ]
     },
     "execution_count": 56,
     "metadata": {},
     "output_type": "execute_result"
    }
   ],
   "source": [
    "def bubbleSort(arr):\n",
    "    for i in range(len(arr)-1):                      # 遍历所有元素，因为每个元素都要冒泡\n",
    "        for j in range(0, len(arr)-i-1):             # 每冒泡完了一个元素，这个元素就不用再参与比较，这行的i可理解为已经冒了多少个泡了（排好了几个了）\n",
    "            if arr[j] > arr[j+1] :                   # 比较两个元素，大的冒泡（放右边）\n",
    "                arr[j], arr[j+1] = arr[j+1], arr[j]\n",
    "    \n",
    "    return arr\n",
    "                \n",
    "my_array = [0, 2, 1, 3, 5, 1, 1]\n",
    "  \n",
    "sorted_array= bubbleSort(my_array)\n",
    "sorted_array"
   ]
  },
  {
   "cell_type": "markdown",
   "metadata": {},
   "source": [
    "## 作业二：快速排序\n",
    "- 自行了解什么是快速排序\n",
    "- 给定数组[0, 2, 1, 3, 5, 1, 1],使用快速排序得到从小到大的结果"
   ]
  },
  {
   "cell_type": "code",
   "execution_count": 3,
   "metadata": {},
   "outputs": [
    {
     "data": {
      "text/plain": [
       "([0, 0, 0.2, 1, 1, 1, 1, 2, 3, 3, 5], 11, 11)"
      ]
     },
     "execution_count": 3,
     "metadata": {},
     "output_type": "execute_result"
    }
   ],
   "source": [
    "def quickSort(arr):\n",
    "    '''\n",
    "    quickSort 的功能：将arr分成三部分 比pivot小的数、pivot和比pivot大的数，并按[Less,pivot,greater]的顺序重新排列\n",
    "    临界条件（递归退出条件）：\n",
    "    当只有两个值的时候，[2,1]\n",
    "    pivot = 2\n",
    "    less = [1]\n",
    "    greater = []\n",
    "    则该subarray = [1,2]\n",
    "    reference: 《grokking algorithm》by Aditya Bhargava\n",
    "    '''\n",
    "\n",
    "    if len(arr) < 2:   # 如果arr里没有元素或者只有1个元素\n",
    "        return arr     # 不用排序直接返回值\n",
    "\n",
    "    else:\n",
    "        pivot = arr[0]                                         # pivot为比较点，默认设为arr中的第0个元素\n",
    "        less = [i for i in arr[1:] if i <= pivot]              # arr中比pivot小的都放在左边\n",
    "        greater = [i for i in arr[1:] if i > pivot]            # arr中比pivot大的都放在右边\n",
    "\n",
    "        return quickSort(less) + [pivot] + quickSort(greater)  \n",
    "\n",
    "\n",
    "my_array = [0, 2, 1, 3, 5, 1, 1,3,0,1,0.2]\n",
    "\n",
    "sorted_array= quickSort(my_array)\n",
    "sorted_array,len(my_array),len(sorted_array)"
   ]
  },
  {
   "cell_type": "code",
   "execution_count": null,
   "metadata": {},
   "outputs": [],
   "source": [
    "def quickSort(arr,begin,end):\n",
    "    if begin >=end:    # base case\n",
    "        return \n",
    "    \n",
    "    left = begin       # left和right是游动指针\n",
    "    \n",
    "        "
   ]
  },
  {
   "cell_type": "markdown",
   "metadata": {},
   "source": [
    "# （课后笔记整理）求解根号2\n",
    "## 二分法"
   ]
  },
  {
   "cell_type": "code",
   "execution_count": 2,
   "metadata": {},
   "outputs": [
    {
     "data": {
      "text/plain": [
       "(1.4142065048217773, 1.414215087890625)"
      ]
     },
     "execution_count": 2,
     "metadata": {},
     "output_type": "execute_result"
    }
   ],
   "source": [
    "def sqrt_with_dichotomy(n,eps = 1e-5):\n",
    "    \n",
    "    y = lambda x:x**2   # 计算y的函数\n",
    "    xa = 0              # xa xb 和 error的初始化\n",
    "    xb = (n+1)**2       # 可随意定一个值\n",
    "    \n",
    "    while(abs(xa-xb)>eps):\n",
    "        xm = (xa+xb)/2\n",
    "        ym = y(xm)      # 等价于 ym=xm^2\n",
    "\n",
    "        if n < ym:\n",
    "            xb = xm\n",
    "        else:\n",
    "            xa = xm\n",
    "        \n",
    "    return xa,xb\n",
    "    \n",
    "sqrt_with_dichotomy(2)  "
   ]
  },
  {
   "cell_type": "markdown",
   "metadata": {},
   "source": [
    "## 牛顿法"
   ]
  },
  {
   "cell_type": "code",
   "execution_count": 3,
   "metadata": {},
   "outputs": [
    {
     "data": {
      "text/plain": [
       "1.4142156862745099"
      ]
     },
     "execution_count": 3,
     "metadata": {},
     "output_type": "execute_result"
    }
   ],
   "source": [
    "def sqrt_with_newton(n,eps = 1e-5):\n",
    "    x,y = 1,1\n",
    "    while (abs(y - n)>eps):\n",
    "        x = (n+x**2)/(2*x)\n",
    "        y = x**2\n",
    "    return x\n",
    "        \n",
    "result = sqrt_with_newton(2)\n",
    "result"
   ]
  }
 ],
 "metadata": {
  "kernelspec": {
   "display_name": "Python 3",
   "language": "python",
   "name": "python3"
  },
  "language_info": {
   "codemirror_mode": {
    "name": "ipython",
    "version": 3
   },
   "file_extension": ".py",
   "mimetype": "text/x-python",
   "name": "python",
   "nbconvert_exporter": "python",
   "pygments_lexer": "ipython3",
   "version": "3.8.5"
  },
  "toc": {
   "base_numbering": 1,
   "nav_menu": {},
   "number_sections": true,
   "sideBar": true,
   "skip_h1_title": false,
   "title_cell": "Table of Contents",
   "title_sidebar": "Contents",
   "toc_cell": false,
   "toc_position": {
    "height": "calc(100% - 180px)",
    "left": "10px",
    "top": "150px",
    "width": "165px"
   },
   "toc_section_display": true,
   "toc_window_display": false
  },
  "varInspector": {
   "cols": {
    "lenName": 16,
    "lenType": 16,
    "lenVar": 40
   },
   "kernels_config": {
    "python": {
     "delete_cmd_postfix": "",
     "delete_cmd_prefix": "del ",
     "library": "var_list.py",
     "varRefreshCmd": "print(var_dic_list())"
    },
    "r": {
     "delete_cmd_postfix": ") ",
     "delete_cmd_prefix": "rm(",
     "library": "var_list.r",
     "varRefreshCmd": "cat(var_dic_list()) "
    }
   },
   "types_to_exclude": [
    "module",
    "function",
    "builtin_function_or_method",
    "instance",
    "_Feature"
   ],
   "window_display": false
  }
 },
 "nbformat": 4,
 "nbformat_minor": 4
}
