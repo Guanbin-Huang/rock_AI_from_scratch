{
 "cells": [
  {
   "cell_type": "code",
   "execution_count": 1,
   "id": "3838befa-4b35-4d82-9fb1-6b2d0abed1ff",
   "metadata": {},
   "outputs": [],
   "source": [
    "def load_labels():\n",
    "    pass\n",
    "\n",
    "def load_images():\n",
    "    pass\n",
    "\n",
    "train_labels = load_labels(\"dataset/train-labels-idx1-ubyte\")\n",
    "train_images = load_images(\"dataset/train-images-idx3-ubyte\")"
   ]
  }
 ],
 "metadata": {
  "kernelspec": {
   "display_name": "Python 3 (ipykernel)",
   "language": "python",
   "name": "python3"
  },
  "language_info": {
   "codemirror_mode": {
    "name": "ipython",
    "version": 3
   },
   "file_extension": ".py",
   "mimetype": "text/x-python",
   "name": "python",
   "nbconvert_exporter": "python",
   "pygments_lexer": "ipython3",
   "version": "3.9.7"
  }
 },
 "nbformat": 4,
 "nbformat_minor": 5
}
